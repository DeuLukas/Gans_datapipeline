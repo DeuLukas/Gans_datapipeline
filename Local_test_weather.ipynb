{
  "cells": [
    {
      "cell_type": "code",
      "execution_count": null,
      "id": "05419c46-d5b1-47b6-afc3-440e414a336a",
      "metadata": {
        "colab": {
          "base_uri": "https://localhost:8080/",
          "height": 637
        },
        "id": "05419c46-d5b1-47b6-afc3-440e414a336a",
        "jupyter": {
          "outputs_hidden": true
        },
        "outputId": "d2df20cf-6784-4c88-a386-41feee7f3cbf",
        "tags": []
      },
      "outputs": [],
      "source": [
        "pip install functions-framework"
      ]
    },
    {
      "cell_type": "code",
      "execution_count": null,
      "id": "5e325610",
      "metadata": {},
      "outputs": [],
      "source": [
        "import functions_framework\n",
        "from pytz import timezone\n",
        "from datetime import datetime\n",
        "import pandas as pd\n",
        "import requests\n",
        "import sqlalchemy\n",
        "import pymysql\n",
        "import os"
      ]
    },
    {
      "cell_type": "code",
      "execution_count": null,
      "id": "a406aac8-6fbe-429e-8b98-9aaf0282daca",
      "metadata": {
        "id": "a406aac8-6fbe-429e-8b98-9aaf0282daca",
        "tags": []
      },
      "outputs": [],
      "source": [
        "@functions_framework.http\n",
        "def weather_pushing(request):\n",
        "    schema = \"city_scooter_analysis\"  # The name of your database\n",
        "    host = \"insert_cloud_SQL_IP\"\n",
        "    user = \"root\"\n",
        "    password = \"Insert_your_SQL_root_password\" # Replace with your actual variable or hardcode for testing\n",
        "    port = 3306\n",
        "\n",
        "    # Create the connection string for SQLAlchemy\n",
        "    connection_string = f'mysql+pymysql://{user}:{password}@{host}:{port}/{schema}'\n",
        "\n",
        "    # Read the cities table into a DataFrame\n",
        "    input_city_df = pd.read_sql(\"city\", con=connection_string)\n",
        "    # existing_weather_df = pd.read_sql(\"weather\", con=connection_string)\n",
        "\n",
        "    #berlin_timezone = timezone('Europe/Berlin')\n",
        "    OPENWEATHER_API_KEY = \"Insert_your_API_key\"  # Replace with your actual API key. Using the string without imports helps debug. In Cloud use Google secrets\n",
        "    #weather_items = []\n",
        "\n",
        "    # Setting up lists for later dataframe creation\n",
        "    city_id = []\n",
        "    forecast_time = []\n",
        "    outlook = []\n",
        "    temperature = []\n",
        "    temperature_felt = []\n",
        "    wind_speed = []\n",
        "    rain_expected_mm = []\n",
        "    retrieval_time = []\n",
        "\n",
        "    # Prepping time and source related references\n",
        "    berlin_timezone = timezone('Europe/Berlin')\n",
        "    \n",
        "    url = \"https://api.openweathermap.org/data/2.5/forecast\"\n",
        "\n",
        "    for id in input_city_df['city_id']:\n",
        "        querystring = {\"lat\": input_city_df.loc[input_city_df['city_id'] == id, :]['latitude'], \"lon\": input_city_df.loc[input_city_df['city_id'] == id, :]['longitude'], \"appid\": OPENWEATHER_API_KEY, \"units\": \"metric\"}\n",
        "        retrieval_timestamp = datetime.now(berlin_timezone).strftime(\"%Y-%m-%d %H:%M:%S\")\n",
        "        # Reference the sections in the request.\n",
        "        weather = requests.request(\"GET\", url, params=querystring)\n",
        "        weather_json = weather.json()\n",
        "\n",
        "        for element in weather_json['list']:\n",
        "            city_id.append(id)\n",
        "            forecast_time.append(element['dt_txt'])\n",
        "            outlook.append(element['weather'][0]['description'])\n",
        "            temperature.append(element['main']['temp'])\n",
        "            temperature_felt.append(element['main']['feels_like'])\n",
        "            wind_speed.append(element['wind']['speed'])\n",
        "            try:\n",
        "                rain_expected_mm.append(element['rain']['3h'])\n",
        "            except:\n",
        "                rain_expected_mm.append(0)\n",
        "            retrieval_time.append(retrieval_timestamp)\n",
        "\n",
        "    weather_df = pd.DataFrame({\"city_id\": city_id,\n",
        "                                        \"forecast_time\": forecast_time,\n",
        "                                        \"outlook\": outlook,\n",
        "                                        \"temperature\": temperature,\n",
        "                                        \"temperature_felt\": temperature_felt,\n",
        "                                        \"wind_speed\": wind_speed,\n",
        "                                        \"rain_expected_mm\": rain_expected_mm,\n",
        "                                        \"retrieval_time\": retrieval_time}\n",
        "                                    )\n",
        "    weather_df[\"forecast_time\"] = pd.to_datetime(weather_df[\"forecast_time\"])\n",
        "    weather_df[\"retrieval_time\"] = pd.to_datetime(weather_df[\"retrieval_time\"]) \n",
        "\n",
        "    weather_df.to_sql('weather', if_exists=\"append\", con=connection_string, index=False)\n",
        "\n",
        "    return \"Data has been sent to the table\""
      ]
    },
    {
      "cell_type": "code",
      "execution_count": null,
      "id": "b4629930-b08d-4e70-b0da-0fdbb0638f32",
      "metadata": {
        "id": "b4629930-b08d-4e70-b0da-0fdbb0638f32",
        "outputId": "b4049a8a-0ca8-458a-b12d-506ce3a52d0b",
        "tags": []
      },
      "outputs": [],
      "source": [
        "from flask import Request\n",
        "import json\n",
        "\n",
        "request_data = {}\n",
        "request = Request.from_values(data=json.dumps(request_data))\n",
        "\n",
        "# Call the function\n",
        "response = weather_pushing(request)\n",
        "print(response)"
      ]
    }
  ],
  "metadata": {
    "colab": {
      "provenance": []
    },
    "kernelspec": {
      "display_name": "base",
      "language": "python",
      "name": "python3"
    },
    "language_info": {
      "codemirror_mode": {
        "name": "ipython",
        "version": 3
      },
      "file_extension": ".py",
      "mimetype": "text/x-python",
      "name": "python",
      "nbconvert_exporter": "python",
      "pygments_lexer": "ipython3",
      "version": "3.12.9"
    }
  },
  "nbformat": 4,
  "nbformat_minor": 5
}
