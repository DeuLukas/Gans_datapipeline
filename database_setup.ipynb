{
 "cells": [
  {
   "cell_type": "markdown",
   "metadata": {},
   "source": [
    "# 1 Imports"
   ]
  },
  {
   "cell_type": "code",
   "execution_count": 1,
   "metadata": {},
   "outputs": [],
   "source": [
    "import pandas as pd\n",
    "import requests\n",
    "import re\n",
    "from pytz import timezone #to select current timezone\n",
    "from datetime import datetime, timedelta # creating timestamps \n",
    "from bs4 import BeautifulSoup\n",
    "from lat_lon_parser import parse    # for decimal coordinates"
   ]
  },
  {
   "cell_type": "code",
   "execution_count": null,
   "metadata": {},
   "outputs": [],
   "source": [
    "# sql root and api keys. Utilizes .env file and config.py to configure password management\n",
    "from config import SQL_ROOT, OPENWEATHER_API_KEY, RAPID_API_KEY\n",
    "from con_cloud import con as cloud_con\n",
    "from con_local import con as local_con"
   ]
  },
  {
   "cell_type": "markdown",
   "metadata": {},
   "source": [
    "# 2 Functions for data acquisition and handling"
   ]
  },
  {
   "cell_type": "markdown",
   "metadata": {},
   "source": [
    "## 2.1 Dataframe creation for city data"
   ]
  },
  {
   "cell_type": "code",
   "execution_count": null,
   "metadata": {},
   "outputs": [],
   "source": [
    "def cities_dataframe(cities):\n",
    "  city_data = []\n",
    "  population_data = []\n",
    "\n",
    "  for city in cities:\n",
    "    url = f\"https://www.wikipedia.org/wiki/{city}\"\n",
    "    response = requests.get(url)\n",
    "    city_soup = BeautifulSoup(response.content, 'html.parser')\n",
    "\n",
    "    # extract the relevant information\n",
    "    city_latitude = city_soup.find(class_=\"latitude\").get_text()\n",
    "    city_longitude = city_soup.find(class_=\"longitude\").get_text()\n",
    "    country = city_soup.find(class_=\"infobox-data\").get_text()\n",
    "\n",
    "    # keep track of data per city\n",
    "    city_data.append({\"city\": city,\n",
    "                    \"country\": country,\n",
    "                    \"latitude\": parse(city_latitude), # latitude in decimal format\n",
    "                    \"longitude\": parse(city_longitude), # longitude in decimal format\n",
    "                    })\n",
    "    \n",
    "    # extract the relevant information\n",
    "    city_population = city_soup.find(string=\"Population\").find_next(\"td\").get_text()\n",
    "    try:\n",
    "      city_population_clean = int(city_population.replace(\",\", \"\"))\n",
    "    except:\n",
    "      city_population_clean = -999\n",
    "    today = datetime.today().strftime(\"%Y-%m-%d\")\n",
    "    pop_census = city_soup.find(string = 'Population').find_next('div').get_text()\n",
    "    try:\n",
    "      yr_census = re.findall(r'[0-9]{4}', pop_census)[0]\n",
    "    except:\n",
    "      yr_census = -999\n",
    "\n",
    "    # for each city we append a dictionary of values to the list\n",
    "    population_data.append({\"city\": city,\n",
    "                          \"population\": city_population_clean,\n",
    "                          \"population_timestamp\": int(yr_census),\n",
    "                          \"retrieval_timestamp\": today\n",
    "                          })\n",
    "\n",
    "\n",
    "  return pd.DataFrame(population_data), pd.DataFrame(city_data)"
   ]
  },
  {
   "cell_type": "markdown",
   "metadata": {},
   "source": [
    "## 2.2 Dataframe creation for weather data"
   ]
  },
  {
   "cell_type": "code",
   "execution_count": null,
   "metadata": {},
   "outputs": [],
   "source": [
    "def get_weather_data(InputCityData):\n",
    "    \n",
    "    # Setting up lists for later dataframe creation\n",
    "    city_id = []\n",
    "    forecast_time = []\n",
    "    outlook = []\n",
    "    temperature = []\n",
    "    temperature_felt = []\n",
    "    wind_speed = []\n",
    "    rain_expected_mm = []\n",
    "    retrieval_time = []\n",
    "\n",
    "    # Prepping time and source related references\n",
    "    berlin_timezone = timezone('Europe/Berlin')\n",
    "    \n",
    "    url = \"https://api.openweathermap.org/data/2.5/forecast\"\n",
    "\n",
    "    for id in InputCityData['city_id']:\n",
    "        querystring = {\"lat\": InputCityData.loc[InputCityData['city_id'] == id, :]['latitude'], \n",
    "                       \"lon\": InputCityData.loc[InputCityData['city_id'] == id, :]['longitude'], \n",
    "                       \"appid\": OPENWEATHER_API_KEY, \n",
    "                       \"units\": \"metric\"\n",
    "                       }\n",
    "        retrieval_timestamp = datetime.now(berlin_timezone).strftime(\"%Y-%m-%d %H:%M:%S\")\n",
    "        # Reference the sections in the request.\n",
    "        weather = requests.request(\"GET\", url, params=querystring)\n",
    "        weather_json = weather.json()\n",
    "\n",
    "        for element in weather_json['list']:\n",
    "            city_id.append(id)\n",
    "            forecast_time.append(element['dt_txt'])\n",
    "            outlook.append(element['weather'][0]['description'])\n",
    "            temperature.append(element['main']['temp'])\n",
    "            temperature_felt.append(element['main']['feels_like'])\n",
    "            wind_speed.append(element['wind']['speed'])\n",
    "            try:\n",
    "                rain_expected_mm.append(element['rain']['3h'])\n",
    "            except:\n",
    "                rain_expected_mm.append(0)\n",
    "            retrieval_time.append(retrieval_timestamp)\n",
    "\n",
    "    weather_df_dictionary = pd.DataFrame({\"city_id\": city_id,\n",
    "                                        \"forecast_time\": forecast_time,\n",
    "                                        \"outlook\": outlook,\n",
    "                                        \"temperature\": temperature,\n",
    "                                        \"temperature_felt\": temperature_felt,\n",
    "                                        \"wind_speed\": wind_speed,\n",
    "                                        \"rain_expected_mm\": rain_expected_mm,\n",
    "                                        \"retrieval_time\": retrieval_time\n",
    "                                        })\n",
    "    \n",
    "    weather_df_dictionary[\"forecast_time\"] = pd.to_datetime(weather_df_dictionary[\"forecast_time\"])\n",
    "    weather_df_dictionary[\"retrieval_time\"] = pd.to_datetime(weather_df_dictionary[\"retrieval_time\"]) \n",
    "    return weather_df_dictionary\n"
   ]
  },
  {
   "cell_type": "markdown",
   "metadata": {},
   "source": [
    "## 2.3 Dataframe Creation for Airport Info"
   ]
  },
  {
   "cell_type": "code",
   "execution_count": null,
   "metadata": {},
   "outputs": [],
   "source": [
    "def get_airport_info(InputCityData):\n",
    "    \n",
    "    url = \"https://aerodatabox.p.rapidapi.com/airports/search/location\"\n",
    "    cities_airports = []\n",
    "\n",
    "    for id in InputCityData['city_id']:\n",
    "        querystring = {\"lat\":InputCityData.loc[InputCityData['city_id'] == id, :]['latitude'],\n",
    "                \"lon\":InputCityData.loc[InputCityData['city_id'] == id, :]['longitude'],\n",
    "                \"radiusKm\":\"30\",\n",
    "                \"limit\":\"8\",\n",
    "                \"withFlightInfoOnly\":\"True\"}\n",
    "\n",
    "        headers = {\n",
    "                \"x-rapidapi-key\": RAPID_API_KEY,\n",
    "                \"x-rapidapi-host\": \"aerodatabox.p.rapidapi.com\"\n",
    "                }\n",
    "\n",
    "        airport_geo_json = requests.get(url, headers=headers, params=querystring).json()\n",
    "\n",
    "        city_airports = pd.json_normalize(airport_geo_json['items'])\n",
    "        city_airports['city_id'] = id\n",
    "        cities_airports.append(city_airports)\n",
    "\n",
    "    cities_airports_df = pd.concat(cities_airports, ignore_index=True)\n",
    "    cities_airports_df.rename(columns = {'name': 'airport_name', \n",
    "                                         'location.lat': 'latitude', \n",
    "                                         'location.lon': 'longitude'}, \n",
    "                                         inplace = True)\n",
    "    return cities_airports_df\n"
   ]
  },
  {
   "cell_type": "code",
   "execution_count": null,
   "metadata": {},
   "outputs": [],
   "source": [
    "# Creating the airports_df for unique icao/iata combination. icao is FK to icao in cities_airports\n",
    "def create_airport_df(cities_airports_df):\n",
    "    \n",
    "    airports_icao = []\n",
    "    airports_iata = []\n",
    "    airports_name = []\n",
    "    for icao_id in cities_airports_df['icao']:\n",
    "        if icao_id in cities_airports_df['icao'].unique() and icao_id not in airports_icao:\n",
    "            airports_icao.append(icao_id)\n",
    "            airports_iata.append(cities_airports_df.loc[cities_airports_df['icao'] == icao_id]['iata'].reset_index(drop=True)[0])\n",
    "            airports_name.append(cities_airports_df.loc[cities_airports_df['icao'] == icao_id]['airport_name'].reset_index(drop=True)[0])\n",
    "    \n",
    "    airports_df_dictionary = pd.DataFrame({\"icao\": airports_icao,\n",
    "                                        \"iata\": airports_iata,\n",
    "                                        \"airport_name\": airports_name})\n",
    "    return airports_df_dictionary"
   ]
  },
  {
   "cell_type": "markdown",
   "metadata": {},
   "source": [
    "## 2.4 Function for flights dataframe creation"
   ]
  },
  {
   "cell_type": "code",
   "execution_count": null,
   "metadata": {},
   "outputs": [],
   "source": [
    "def get_flights(InputIcaoList):\n",
    "\n",
    "    querystring = {\"withLeg\":\"True\",\n",
    "                \"direction\":\"Arrival\",\n",
    "                \"withCancelled\":\"False\",\n",
    "                \"withCodeshared\":\"True\",\n",
    "                \"withCargo\":\"False\",\n",
    "                \"withPrivate\":\"False\",\n",
    "                \"withLocation\":\"False\"}\n",
    "\n",
    "    headers = \t{\"x-rapidapi-key\": RAPID_API_KEY,\n",
    "                \"x-rapidapi-host\": \"aerodatabox.p.rapidapi.com\"\n",
    "                }\n",
    "\n",
    "    berlin_timezone = timezone('Europe/Berlin')\n",
    "    today = datetime.now(berlin_timezone).date()\n",
    "    tomorrow = (today + timedelta(days=1))\n",
    "    times = [[\"00:00\",\"11:59\"],\n",
    "            [\"12:00\",\"23:59\"]]\n",
    "\n",
    "    flight_num = []\n",
    "    departure_icao = []\n",
    "    arrival_icao = []\n",
    "    arrival_time = []\n",
    "    retrieval_time = []\n",
    "\n",
    "\n",
    "    retrieval_timestamp = datetime.now(berlin_timezone).strftime(\"%Y-%m-%d %H:%M:%S\")\n",
    "\n",
    "    for airport in InputIcaoList:\n",
    "        for time in times:\n",
    "            url = f\"https://aerodatabox.p.rapidapi.com/flights/airports/icao/{airport}/{tomorrow}T{time[0]}/{tomorrow}T{time[1]}\"\n",
    "\n",
    "            flights_response = requests.get(url, headers=headers, params=querystring)\n",
    "            try:\n",
    "                flights_json = flights_response.json()\n",
    "            except requests.JSONDecodeError:\n",
    "                continue\n",
    "            for flight in flights_json['arrivals']:\n",
    "                flight_num.append(flight['number'])\n",
    "                try:\n",
    "                    departure_icao.append(flight['departure']['airport']['icao'])\n",
    "                except:\n",
    "                    departure_icao.append('')\n",
    "                arrival_icao.append(airport)\n",
    "                arrival_time.append(flight['arrival']['scheduledTime']['local'])\n",
    "                retrieval_time.append(retrieval_timestamp)\n",
    "\n",
    "    airports_df_dictionary = pd.DataFrame({\"flight_num\": flight_num,\n",
    "                                        \"departure_icao\": departure_icao,\n",
    "                                        \"arrival_icao\": arrival_icao,\n",
    "                                        \"arrival_time\": arrival_time,\n",
    "                                        \"retrieval_time\": retrieval_time\n",
    "                                        })\n",
    "    \n",
    "    airports_df_dictionary[\"arrival_time\"] = airports_df_dictionary[\"arrival_time\"].str[:-6]\n",
    "    airports_df_dictionary[\"arrival_time\"] = pd.to_datetime(airports_df_dictionary[\"arrival_time\"])\n",
    "    airports_df_dictionary[\"retrieval_time\"] = pd.to_datetime(airports_df_dictionary[\"retrieval_time\"])\n",
    "    return airports_df_dictionary\n",
    "        "
   ]
  },
  {
   "cell_type": "markdown",
   "metadata": {},
   "source": [
    "## 2.5 Function that fetches city and population airports and cities_airports data from a database"
   ]
  },
  {
   "cell_type": "code",
   "execution_count": 9,
   "metadata": {},
   "outputs": [],
   "source": [
    "def fetch_static_data(connection):\n",
    "    \n",
    "    city_df = pd.read_sql(\"city\", \n",
    "                          con=connection)\n",
    "    population_df = pd.read_sql(\"population\",\n",
    "                                con = connection)\n",
    "    airports_df = pd.read_sql(\"airports\",\n",
    "                              con = connection)\n",
    "    cities_airports_df = pd.read_sql(\"cities_airports\",\n",
    "                                     con = connection)\n",
    "    return city_df, population_df, airports_df, cities_airports_df"
   ]
  },
  {
   "cell_type": "markdown",
   "metadata": {},
   "source": [
    "## 2.6 Function that fetches flights and weather data from a database"
   ]
  },
  {
   "cell_type": "code",
   "execution_count": 10,
   "metadata": {},
   "outputs": [],
   "source": [
    "def fetch_dynamic_data(connection):\n",
    "    \n",
    "    weather_df = pd.read_sql(\"weather\", \n",
    "                             con=connection)\n",
    "    flights_df = pd.read_sql(\"flights\",\n",
    "                             con = connection)\n",
    "    return weather_df, flights_df"
   ]
  },
  {
   "cell_type": "markdown",
   "metadata": {},
   "source": [
    "## 2.7 Function that submits static databases to SQL"
   ]
  },
  {
   "cell_type": "code",
   "execution_count": 11,
   "metadata": {},
   "outputs": [],
   "source": [
    "def submit_static_data(city_df_in, population_df_in, airports_df_in, cities_airports_df_in, connection):\n",
    "    \n",
    "    city_df_in.to_sql('city',\n",
    "                  if_exists='append',\n",
    "                  con=connection,\n",
    "                  index=False)\n",
    "    population_df_in.to_sql('population',\n",
    "                         if_exists='append',\n",
    "                         con=connection,\n",
    "                         index=False)\n",
    "    airports_df_in.to_sql('airports',  \n",
    "                       if_exists='append',\n",
    "                       con=connection,\n",
    "                       index=False)\n",
    "    cities_airports_df_in.to_sql('cities_airports',\n",
    "                              if_exists='append',\n",
    "                              con=connection,\n",
    "                              index=False)\n",
    "    return \"success\"\n",
    "    "
   ]
  },
  {
   "cell_type": "markdown",
   "metadata": {},
   "source": [
    "## 2.8 Function that submits weather data to SQL"
   ]
  },
  {
   "cell_type": "code",
   "execution_count": 12,
   "metadata": {},
   "outputs": [],
   "source": [
    "def submit_weather_data(weather_df_in, connection):\n",
    "    \n",
    "    weather_df_in.to_sql('weather',\n",
    "                  if_exists='append',\n",
    "                  con=connection,\n",
    "                  index=False)\n",
    "    return \"success\""
   ]
  },
  {
   "cell_type": "markdown",
   "metadata": {},
   "source": [
    "## 2.9 Function that submits flighhts data to SQL"
   ]
  },
  {
   "cell_type": "code",
   "execution_count": 13,
   "metadata": {},
   "outputs": [],
   "source": [
    "def submit_flights_data(flights_df_in, connection):\n",
    "    \n",
    "    flights_df_in.to_sql('flights',\n",
    "                  if_exists='append',\n",
    "                  con=connection,\n",
    "                  index=False)\n",
    "    return \"success\""
   ]
  },
  {
   "cell_type": "markdown",
   "metadata": {},
   "source": [
    "## 2.10 Function that automatically parses and updates weather and flights tables"
   ]
  },
  {
   "cell_type": "code",
   "execution_count": 14,
   "metadata": {},
   "outputs": [],
   "source": [
    "def update_weather_flights(connection):\n",
    "    \n",
    "    city_df, population_df, airports_df, cities_airports_df = fetch_static_data(connection)\n",
    "    weather_df = get_weather_data(city_df)\n",
    "    flights_df = get_flights(airports_df['icao'])\n",
    "    submit_weather_data(weather_df, connection)\n",
    "    submit_flights_data(flights_df, connection)\n",
    "    return \"success\"\n",
    "    \n"
   ]
  },
  {
   "cell_type": "markdown",
   "metadata": {},
   "source": [
    "# 3 Executing Data Acquisition for select places"
   ]
  },
  {
   "cell_type": "markdown",
   "metadata": {},
   "source": [
    "## 3.1 Filling the dataframe for selected cities"
   ]
  },
  {
   "cell_type": "code",
   "execution_count": null,
   "metadata": {},
   "outputs": [],
   "source": [
    "# Setting up the SQL connection locally\n",
    "schema = \"gans_wbsproject\"\n",
    "host = \"127.0.0.1\"\n",
    "user = \"root\"\n",
    "password = SQL_ROOT\n",
    "port = 3306\n",
    "\n",
    "connection_string = f'mysql+pymysql://{user}:{password}@{host}:{port}/{schema}'"
   ]
  },
  {
   "cell_type": "code",
   "execution_count": null,
   "metadata": {},
   "outputs": [
    {
     "data": {
      "application/vnd.microsoft.datawrangler.viewer.v0+json": {
       "columns": [
        {
         "name": "index",
         "rawType": "int64",
         "type": "integer"
        },
        {
         "name": "city",
         "rawType": "object",
         "type": "string"
        },
        {
         "name": "country",
         "rawType": "object",
         "type": "string"
        },
        {
         "name": "latitude",
         "rawType": "float64",
         "type": "float"
        },
        {
         "name": "longitude",
         "rawType": "float64",
         "type": "float"
        }
       ],
       "conversionMethod": "pd.DataFrame",
       "ref": "048fd032-d473-41ba-bcf7-f3cfb22b6381",
       "rows": [
        [
         "0",
         "Berlin",
         "Germany",
         "52.519999999999996",
         "13.405000000000001"
        ],
        [
         "1",
         "Hamburg",
         "Germany",
         "53.55",
         "10.0"
        ],
        [
         "2",
         "Munich",
         "Germany",
         "48.1375",
         "11.575"
        ],
        [
         "3",
         "Cologne",
         "Germany",
         "50.936388888888885",
         "6.952777777777778"
        ],
        [
         "4",
         "London",
         "United Kingdom",
         "51.507222222222225",
         "-0.1275"
        ]
       ],
       "shape": {
        "columns": 4,
        "rows": 5
       }
      },
      "text/html": [
       "<div>\n",
       "<style scoped>\n",
       "    .dataframe tbody tr th:only-of-type {\n",
       "        vertical-align: middle;\n",
       "    }\n",
       "\n",
       "    .dataframe tbody tr th {\n",
       "        vertical-align: top;\n",
       "    }\n",
       "\n",
       "    .dataframe thead th {\n",
       "        text-align: right;\n",
       "    }\n",
       "</style>\n",
       "<table border=\"1\" class=\"dataframe\">\n",
       "  <thead>\n",
       "    <tr style=\"text-align: right;\">\n",
       "      <th></th>\n",
       "      <th>city</th>\n",
       "      <th>country</th>\n",
       "      <th>latitude</th>\n",
       "      <th>longitude</th>\n",
       "    </tr>\n",
       "  </thead>\n",
       "  <tbody>\n",
       "    <tr>\n",
       "      <th>0</th>\n",
       "      <td>Berlin</td>\n",
       "      <td>Germany</td>\n",
       "      <td>52.520000</td>\n",
       "      <td>13.405000</td>\n",
       "    </tr>\n",
       "    <tr>\n",
       "      <th>1</th>\n",
       "      <td>Hamburg</td>\n",
       "      <td>Germany</td>\n",
       "      <td>53.550000</td>\n",
       "      <td>10.000000</td>\n",
       "    </tr>\n",
       "    <tr>\n",
       "      <th>2</th>\n",
       "      <td>Munich</td>\n",
       "      <td>Germany</td>\n",
       "      <td>48.137500</td>\n",
       "      <td>11.575000</td>\n",
       "    </tr>\n",
       "    <tr>\n",
       "      <th>3</th>\n",
       "      <td>Cologne</td>\n",
       "      <td>Germany</td>\n",
       "      <td>50.936389</td>\n",
       "      <td>6.952778</td>\n",
       "    </tr>\n",
       "    <tr>\n",
       "      <th>4</th>\n",
       "      <td>London</td>\n",
       "      <td>United Kingdom</td>\n",
       "      <td>51.507222</td>\n",
       "      <td>-0.127500</td>\n",
       "    </tr>\n",
       "  </tbody>\n",
       "</table>\n",
       "</div>"
      ],
      "text/plain": [
       "      city         country   latitude  longitude\n",
       "0   Berlin         Germany  52.520000  13.405000\n",
       "1  Hamburg         Germany  53.550000  10.000000\n",
       "2   Munich         Germany  48.137500  11.575000\n",
       "3  Cologne         Germany  50.936389   6.952778\n",
       "4   London  United Kingdom  51.507222  -0.127500"
      ]
     },
     "execution_count": 16,
     "metadata": {},
     "output_type": "execute_result"
    }
   ],
   "source": [
    "# Select the cities for which we want to create a database\n",
    "cities = [\"Berlin\", \"Hamburg\", \"Munich\", \"Cologne\", \"London\"]\n",
    "\n",
    "# Create the tables for cities and their populations\n",
    "pop_df, city_df = cities_dataframe(cities)"
   ]
  },
  {
   "cell_type": "code",
   "execution_count": null,
   "metadata": {},
   "outputs": [
    {
     "data": {
      "application/vnd.microsoft.datawrangler.viewer.v0+json": {
       "columns": [
        {
         "name": "index",
         "rawType": "int64",
         "type": "integer"
        },
        {
         "name": "city",
         "rawType": "object",
         "type": "string"
        },
        {
         "name": "country",
         "rawType": "object",
         "type": "string"
        },
        {
         "name": "latitude",
         "rawType": "float64",
         "type": "float"
        },
        {
         "name": "longitude",
         "rawType": "float64",
         "type": "float"
        }
       ],
       "conversionMethod": "pd.DataFrame",
       "ref": "d5ecac1c-7a05-4a2a-b136-309d190fa132",
       "rows": [
        [
         "0",
         "Berlin",
         "Germany",
         "52.519999999999996",
         "13.405000000000001"
        ],
        [
         "1",
         "Hamburg",
         "Germany",
         "53.55",
         "10.0"
        ],
        [
         "2",
         "Munich",
         "Germany",
         "48.1375",
         "11.575"
        ],
        [
         "3",
         "Cologne",
         "Germany",
         "50.936388888888885",
         "6.952777777777778"
        ],
        [
         "4",
         "London",
         "United Kingdom",
         "51.507222222222225",
         "-0.1275"
        ]
       ],
       "shape": {
        "columns": 4,
        "rows": 5
       }
      },
      "text/html": [
       "<div>\n",
       "<style scoped>\n",
       "    .dataframe tbody tr th:only-of-type {\n",
       "        vertical-align: middle;\n",
       "    }\n",
       "\n",
       "    .dataframe tbody tr th {\n",
       "        vertical-align: top;\n",
       "    }\n",
       "\n",
       "    .dataframe thead th {\n",
       "        text-align: right;\n",
       "    }\n",
       "</style>\n",
       "<table border=\"1\" class=\"dataframe\">\n",
       "  <thead>\n",
       "    <tr style=\"text-align: right;\">\n",
       "      <th></th>\n",
       "      <th>city</th>\n",
       "      <th>country</th>\n",
       "      <th>latitude</th>\n",
       "      <th>longitude</th>\n",
       "    </tr>\n",
       "  </thead>\n",
       "  <tbody>\n",
       "    <tr>\n",
       "      <th>0</th>\n",
       "      <td>Berlin</td>\n",
       "      <td>Germany</td>\n",
       "      <td>52.520000</td>\n",
       "      <td>13.405000</td>\n",
       "    </tr>\n",
       "    <tr>\n",
       "      <th>1</th>\n",
       "      <td>Hamburg</td>\n",
       "      <td>Germany</td>\n",
       "      <td>53.550000</td>\n",
       "      <td>10.000000</td>\n",
       "    </tr>\n",
       "    <tr>\n",
       "      <th>2</th>\n",
       "      <td>Munich</td>\n",
       "      <td>Germany</td>\n",
       "      <td>48.137500</td>\n",
       "      <td>11.575000</td>\n",
       "    </tr>\n",
       "    <tr>\n",
       "      <th>3</th>\n",
       "      <td>Cologne</td>\n",
       "      <td>Germany</td>\n",
       "      <td>50.936389</td>\n",
       "      <td>6.952778</td>\n",
       "    </tr>\n",
       "    <tr>\n",
       "      <th>4</th>\n",
       "      <td>London</td>\n",
       "      <td>United Kingdom</td>\n",
       "      <td>51.507222</td>\n",
       "      <td>-0.127500</td>\n",
       "    </tr>\n",
       "  </tbody>\n",
       "</table>\n",
       "</div>"
      ],
      "text/plain": [
       "      city         country   latitude  longitude\n",
       "0   Berlin         Germany  52.520000  13.405000\n",
       "1  Hamburg         Germany  53.550000  10.000000\n",
       "2   Munich         Germany  48.137500  11.575000\n",
       "3  Cologne         Germany  50.936389   6.952778\n",
       "4   London  United Kingdom  51.507222  -0.127500"
      ]
     },
     "execution_count": 21,
     "metadata": {},
     "output_type": "execute_result"
    }
   ],
   "source": [
    "# Check for completeness and correctness of city (geo-)data\n",
    "city_df"
   ]
  },
  {
   "cell_type": "code",
   "execution_count": null,
   "metadata": {},
   "outputs": [
    {
     "data": {
      "application/vnd.microsoft.datawrangler.viewer.v0+json": {
       "columns": [
        {
         "name": "index",
         "rawType": "int64",
         "type": "integer"
        },
        {
         "name": "city",
         "rawType": "object",
         "type": "string"
        },
        {
         "name": "population",
         "rawType": "int64",
         "type": "integer"
        },
        {
         "name": "population_timestamp",
         "rawType": "int64",
         "type": "integer"
        },
        {
         "name": "retrieval_timestamp",
         "rawType": "object",
         "type": "string"
        }
       ],
       "conversionMethod": "pd.DataFrame",
       "ref": "05254a25-e1d8-4a8e-8d00-07d6bdd038f5",
       "rows": [
        [
         "0",
         "Berlin",
         "3596999",
         "2022",
         "2025-05-20"
        ],
        [
         "1",
         "Hamburg",
         "1964021",
         "2023",
         "2025-05-20"
        ],
        [
         "2",
         "Munich",
         "1510378",
         "2023",
         "2025-05-20"
        ],
        [
         "3",
         "Cologne",
         "1024408",
         "2023",
         "2025-05-20"
        ],
        [
         "4",
         "London",
         "8866180",
         "2022",
         "2025-05-20"
        ]
       ],
       "shape": {
        "columns": 4,
        "rows": 5
       }
      },
      "text/html": [
       "<div>\n",
       "<style scoped>\n",
       "    .dataframe tbody tr th:only-of-type {\n",
       "        vertical-align: middle;\n",
       "    }\n",
       "\n",
       "    .dataframe tbody tr th {\n",
       "        vertical-align: top;\n",
       "    }\n",
       "\n",
       "    .dataframe thead th {\n",
       "        text-align: right;\n",
       "    }\n",
       "</style>\n",
       "<table border=\"1\" class=\"dataframe\">\n",
       "  <thead>\n",
       "    <tr style=\"text-align: right;\">\n",
       "      <th></th>\n",
       "      <th>city</th>\n",
       "      <th>population</th>\n",
       "      <th>population_timestamp</th>\n",
       "      <th>retrieval_timestamp</th>\n",
       "    </tr>\n",
       "  </thead>\n",
       "  <tbody>\n",
       "    <tr>\n",
       "      <th>0</th>\n",
       "      <td>Berlin</td>\n",
       "      <td>3596999</td>\n",
       "      <td>2022</td>\n",
       "      <td>2025-05-20</td>\n",
       "    </tr>\n",
       "    <tr>\n",
       "      <th>1</th>\n",
       "      <td>Hamburg</td>\n",
       "      <td>1964021</td>\n",
       "      <td>2023</td>\n",
       "      <td>2025-05-20</td>\n",
       "    </tr>\n",
       "    <tr>\n",
       "      <th>2</th>\n",
       "      <td>Munich</td>\n",
       "      <td>1510378</td>\n",
       "      <td>2023</td>\n",
       "      <td>2025-05-20</td>\n",
       "    </tr>\n",
       "    <tr>\n",
       "      <th>3</th>\n",
       "      <td>Cologne</td>\n",
       "      <td>1024408</td>\n",
       "      <td>2023</td>\n",
       "      <td>2025-05-20</td>\n",
       "    </tr>\n",
       "    <tr>\n",
       "      <th>4</th>\n",
       "      <td>London</td>\n",
       "      <td>8866180</td>\n",
       "      <td>2022</td>\n",
       "      <td>2025-05-20</td>\n",
       "    </tr>\n",
       "  </tbody>\n",
       "</table>\n",
       "</div>"
      ],
      "text/plain": [
       "      city  population  population_timestamp retrieval_timestamp\n",
       "0   Berlin     3596999                  2022          2025-05-20\n",
       "1  Hamburg     1964021                  2023          2025-05-20\n",
       "2   Munich     1510378                  2023          2025-05-20\n",
       "3  Cologne     1024408                  2023          2025-05-20\n",
       "4   London     8866180                  2022          2025-05-20"
      ]
     },
     "execution_count": 22,
     "metadata": {},
     "output_type": "execute_result"
    }
   ],
   "source": [
    "# Check for completeness and correctness of population data\n",
    "pop_df"
   ]
  },
  {
   "cell_type": "code",
   "execution_count": null,
   "metadata": {},
   "outputs": [
    {
     "data": {
      "text/plain": [
       "5"
      ]
     },
     "execution_count": 28,
     "metadata": {},
     "output_type": "execute_result"
    }
   ],
   "source": [
    "# Export the city data to SQL\n",
    "city_df.to_sql('city',\n",
    "                  if_exists='append',\n",
    "                  con=connection_string,\n",
    "                  index=False)"
   ]
  },
  {
   "cell_type": "code",
   "execution_count": 29,
   "metadata": {},
   "outputs": [],
   "source": [
    "# Reimport city table with primary key assignments. Prepare population data for exporting \n",
    "city_from_sql = pd.read_sql(\"city\", \n",
    "                            con=connection_string) # Reimporting"
   ]
  },
  {
   "cell_type": "code",
   "execution_count": 30,
   "metadata": {},
   "outputs": [
    {
     "data": {
      "text/plain": [
       "5"
      ]
     },
     "execution_count": 30,
     "metadata": {},
     "output_type": "execute_result"
    }
   ],
   "source": [
    "# Left Join city into population data\n",
    "population_df = pop_df.merge(city_from_sql,\n",
    "                                   on = \"city\",\n",
    "                                   how = \"left\")\n",
    "\n",
    "# Remove duplicate table info\n",
    "population_df.drop(columns=[\"city\", 'country', 'latitude', 'longitude'], inplace = True)\n",
    "\n",
    "# Reorder columns to match SQL table generation: city_id, population, population_timestamp, retrieval_timestamp from l to r\n",
    "population_df = population_df.iloc[:, [-1, 0, 1, 2]]\n",
    "\n",
    "# Export to SQL population table\n",
    "population_df.to_sql('population',\n",
    "                  if_exists='append',\n",
    "                  con=connection_string,\n",
    "                  index=False)"
   ]
  },
  {
   "cell_type": "markdown",
   "metadata": {},
   "source": [
    "## 3.2 Fetch and export weather data (requires section 3.1 being finished)"
   ]
  },
  {
   "cell_type": "code",
   "execution_count": 31,
   "metadata": {},
   "outputs": [
    {
     "data": {
      "application/vnd.microsoft.datawrangler.viewer.v0+json": {
       "columns": [
        {
         "name": "index",
         "rawType": "int64",
         "type": "integer"
        },
        {
         "name": "city_id",
         "rawType": "int64",
         "type": "integer"
        },
        {
         "name": "forecast_time",
         "rawType": "datetime64[ns]",
         "type": "datetime"
        },
        {
         "name": "outlook",
         "rawType": "object",
         "type": "string"
        },
        {
         "name": "temperature",
         "rawType": "float64",
         "type": "float"
        },
        {
         "name": "temperature_felt",
         "rawType": "float64",
         "type": "float"
        },
        {
         "name": "wind_speed",
         "rawType": "float64",
         "type": "float"
        },
        {
         "name": "rain_expected_mm",
         "rawType": "float64",
         "type": "float"
        },
        {
         "name": "retrieval_time",
         "rawType": "datetime64[ns]",
         "type": "datetime"
        }
       ],
       "conversionMethod": "pd.DataFrame",
       "ref": "6d939eb2-8b27-4244-bc59-fd468cf7e88c",
       "rows": [
        [
         "0",
         "1",
         "2025-05-20 15:00:00",
         "overcast clouds",
         "23.3",
         "22.86",
         "2.81",
         "0.0",
         "2025-05-20 15:37:25"
        ],
        [
         "1",
         "1",
         "2025-05-20 18:00:00",
         "overcast clouds",
         "22.24",
         "21.77",
         "2.27",
         "0.0",
         "2025-05-20 15:37:25"
        ],
        [
         "2",
         "1",
         "2025-05-20 21:00:00",
         "overcast clouds",
         "20.06",
         "19.64",
         "2.33",
         "0.0",
         "2025-05-20 15:37:25"
        ],
        [
         "3",
         "1",
         "2025-05-21 00:00:00",
         "overcast clouds",
         "15.2",
         "14.66",
         "2.74",
         "0.0",
         "2025-05-20 15:37:25"
        ],
        [
         "4",
         "1",
         "2025-05-21 03:00:00",
         "light rain",
         "11.4",
         "10.29",
         "3.02",
         "0.37",
         "2025-05-20 15:37:25"
        ],
        [
         "5",
         "1",
         "2025-05-21 06:00:00",
         "overcast clouds",
         "13.34",
         "11.88",
         "4.46",
         "0.0",
         "2025-05-20 15:37:25"
        ],
        [
         "6",
         "1",
         "2025-05-21 09:00:00",
         "broken clouds",
         "18.19",
         "16.8",
         "5.31",
         "0.0",
         "2025-05-20 15:37:25"
        ],
        [
         "7",
         "1",
         "2025-05-21 12:00:00",
         "scattered clouds",
         "21.14",
         "19.91",
         "6.15",
         "0.0",
         "2025-05-20 15:37:25"
        ],
        [
         "8",
         "1",
         "2025-05-21 15:00:00",
         "overcast clouds",
         "20.54",
         "19.38",
         "6.26",
         "0.0",
         "2025-05-20 15:37:25"
        ],
        [
         "9",
         "1",
         "2025-05-21 18:00:00",
         "overcast clouds",
         "17.88",
         "16.85",
         "5.12",
         "0.0",
         "2025-05-20 15:37:25"
        ],
        [
         "10",
         "1",
         "2025-05-21 21:00:00",
         "broken clouds",
         "13.69",
         "12.66",
         "4.3",
         "0.0",
         "2025-05-20 15:37:25"
        ],
        [
         "11",
         "1",
         "2025-05-22 00:00:00",
         "overcast clouds",
         "10.15",
         "8.94",
         "4.66",
         "0.0",
         "2025-05-20 15:37:25"
        ],
        [
         "12",
         "1",
         "2025-05-22 03:00:00",
         "scattered clouds",
         "7.67",
         "5.1",
         "4.07",
         "0.0",
         "2025-05-20 15:37:25"
        ],
        [
         "13",
         "1",
         "2025-05-22 06:00:00",
         "few clouds",
         "10.01",
         "8.74",
         "5.15",
         "0.0",
         "2025-05-20 15:37:25"
        ],
        [
         "14",
         "1",
         "2025-05-22 09:00:00",
         "broken clouds",
         "13.19",
         "11.48",
         "6.38",
         "0.0",
         "2025-05-20 15:37:25"
        ],
        [
         "15",
         "1",
         "2025-05-22 12:00:00",
         "broken clouds",
         "16.26",
         "14.59",
         "7.93",
         "0.0",
         "2025-05-20 15:37:25"
        ],
        [
         "16",
         "1",
         "2025-05-22 15:00:00",
         "overcast clouds",
         "14.75",
         "13.17",
         "7.77",
         "0.0",
         "2025-05-20 15:37:25"
        ],
        [
         "17",
         "1",
         "2025-05-22 18:00:00",
         "light rain",
         "10.38",
         "9.28",
         "5.08",
         "0.57",
         "2025-05-20 15:37:25"
        ],
        [
         "18",
         "1",
         "2025-05-22 21:00:00",
         "light rain",
         "7.77",
         "5.47",
         "3.6",
         "0.3",
         "2025-05-20 15:37:25"
        ],
        [
         "19",
         "1",
         "2025-05-23 00:00:00",
         "broken clouds",
         "6.5",
         "3.49",
         "4.42",
         "0.0",
         "2025-05-20 15:37:25"
        ],
        [
         "20",
         "1",
         "2025-05-23 03:00:00",
         "clear sky",
         "5.21",
         "2.17",
         "3.9",
         "0.0",
         "2025-05-20 15:37:25"
        ],
        [
         "21",
         "1",
         "2025-05-23 06:00:00",
         "clear sky",
         "8.02",
         "5.17",
         "4.86",
         "0.0",
         "2025-05-20 15:37:25"
        ],
        [
         "22",
         "1",
         "2025-05-23 09:00:00",
         "light rain",
         "12.02",
         "10.66",
         "5.55",
         "0.7",
         "2025-05-20 15:37:25"
        ],
        [
         "23",
         "1",
         "2025-05-23 12:00:00",
         "light rain",
         "13.25",
         "11.62",
         "5.73",
         "0.52",
         "2025-05-20 15:37:25"
        ],
        [
         "24",
         "1",
         "2025-05-23 15:00:00",
         "overcast clouds",
         "15.26",
         "13.73",
         "5.76",
         "0.0",
         "2025-05-20 15:37:25"
        ],
        [
         "25",
         "1",
         "2025-05-23 18:00:00",
         "broken clouds",
         "13.23",
         "11.76",
         "4.14",
         "0.0",
         "2025-05-20 15:37:25"
        ],
        [
         "26",
         "1",
         "2025-05-23 21:00:00",
         "few clouds",
         "9.5",
         "8.52",
         "2.11",
         "0.0",
         "2025-05-20 15:37:25"
        ],
        [
         "27",
         "1",
         "2025-05-24 00:00:00",
         "broken clouds",
         "8.01",
         "6.3",
         "2.73",
         "0.0",
         "2025-05-20 15:37:25"
        ],
        [
         "28",
         "1",
         "2025-05-24 03:00:00",
         "broken clouds",
         "6.49",
         "4.64",
         "2.53",
         "0.0",
         "2025-05-20 15:37:25"
        ],
        [
         "29",
         "1",
         "2025-05-24 06:00:00",
         "broken clouds",
         "9.26",
         "7.47",
         "3.26",
         "0.0",
         "2025-05-20 15:37:25"
        ],
        [
         "30",
         "1",
         "2025-05-24 09:00:00",
         "broken clouds",
         "14.77",
         "13.29",
         "4.36",
         "0.0",
         "2025-05-20 15:37:25"
        ],
        [
         "31",
         "1",
         "2025-05-24 12:00:00",
         "scattered clouds",
         "18.96",
         "17.72",
         "5.61",
         "0.0",
         "2025-05-20 15:37:25"
        ],
        [
         "32",
         "1",
         "2025-05-24 15:00:00",
         "overcast clouds",
         "17.89",
         "16.86",
         "4.89",
         "0.0",
         "2025-05-20 15:37:25"
        ],
        [
         "33",
         "1",
         "2025-05-24 18:00:00",
         "light rain",
         "15.34",
         "14.55",
         "5.24",
         "0.32",
         "2025-05-20 15:37:25"
        ],
        [
         "34",
         "1",
         "2025-05-24 21:00:00",
         "light rain",
         "12.12",
         "11.61",
         "5.15",
         "0.27",
         "2025-05-20 15:37:25"
        ],
        [
         "35",
         "1",
         "2025-05-25 00:00:00",
         "light rain",
         "11.44",
         "11.09",
         "4.76",
         "1.4",
         "2025-05-20 15:37:25"
        ],
        [
         "36",
         "1",
         "2025-05-25 03:00:00",
         "light rain",
         "11.6",
         "11.32",
         "3.99",
         "1.67",
         "2025-05-20 15:37:25"
        ],
        [
         "37",
         "1",
         "2025-05-25 06:00:00",
         "light rain",
         "12.08",
         "11.85",
         "4.37",
         "0.87",
         "2025-05-20 15:37:25"
        ],
        [
         "38",
         "1",
         "2025-05-25 09:00:00",
         "light rain",
         "13.7",
         "13.48",
         "4.96",
         "1.38",
         "2025-05-20 15:37:25"
        ],
        [
         "39",
         "1",
         "2025-05-25 12:00:00",
         "light rain",
         "16.46",
         "16.28",
         "5.9",
         "1.5",
         "2025-05-20 15:37:25"
        ],
        [
         "40",
         "2",
         "2025-05-20 15:00:00",
         "scattered clouds",
         "22.25",
         "21.6",
         "4.85",
         "0.0",
         "2025-05-20 15:37:25"
        ],
        [
         "41",
         "2",
         "2025-05-20 18:00:00",
         "scattered clouds",
         "19.27",
         "18.58",
         "3.86",
         "0.0",
         "2025-05-20 15:37:25"
        ],
        [
         "42",
         "2",
         "2025-05-20 21:00:00",
         "clear sky",
         "10.79",
         "10.3",
         "3.24",
         "0.0",
         "2025-05-20 15:37:25"
        ],
        [
         "43",
         "2",
         "2025-05-21 00:00:00",
         "scattered clouds",
         "8.49",
         "6.47",
         "3.38",
         "0.0",
         "2025-05-20 15:37:25"
        ],
        [
         "44",
         "2",
         "2025-05-21 03:00:00",
         "broken clouds",
         "6.19",
         "3.44",
         "3.78",
         "0.0",
         "2025-05-20 15:37:25"
        ],
        [
         "45",
         "2",
         "2025-05-21 06:00:00",
         "broken clouds",
         "11.56",
         "10.94",
         "5.25",
         "0.0",
         "2025-05-20 15:37:25"
        ],
        [
         "46",
         "2",
         "2025-05-21 09:00:00",
         "broken clouds",
         "16.08",
         "15.0",
         "6.24",
         "0.0",
         "2025-05-20 15:37:25"
        ],
        [
         "47",
         "2",
         "2025-05-21 12:00:00",
         "broken clouds",
         "17.74",
         "16.59",
         "7.03",
         "0.0",
         "2025-05-20 15:37:25"
        ],
        [
         "48",
         "2",
         "2025-05-21 15:00:00",
         "clear sky",
         "15.41",
         "14.26",
         "7.54",
         "0.0",
         "2025-05-20 15:37:25"
        ],
        [
         "49",
         "2",
         "2025-05-21 18:00:00",
         "few clouds",
         "11.47",
         "10.42",
         "5.34",
         "0.0",
         "2025-05-20 15:37:25"
        ]
       ],
       "shape": {
        "columns": 8,
        "rows": 200
       }
      },
      "text/html": [
       "<div>\n",
       "<style scoped>\n",
       "    .dataframe tbody tr th:only-of-type {\n",
       "        vertical-align: middle;\n",
       "    }\n",
       "\n",
       "    .dataframe tbody tr th {\n",
       "        vertical-align: top;\n",
       "    }\n",
       "\n",
       "    .dataframe thead th {\n",
       "        text-align: right;\n",
       "    }\n",
       "</style>\n",
       "<table border=\"1\" class=\"dataframe\">\n",
       "  <thead>\n",
       "    <tr style=\"text-align: right;\">\n",
       "      <th></th>\n",
       "      <th>city_id</th>\n",
       "      <th>forecast_time</th>\n",
       "      <th>outlook</th>\n",
       "      <th>temperature</th>\n",
       "      <th>temperature_felt</th>\n",
       "      <th>wind_speed</th>\n",
       "      <th>rain_expected_mm</th>\n",
       "      <th>retrieval_time</th>\n",
       "    </tr>\n",
       "  </thead>\n",
       "  <tbody>\n",
       "    <tr>\n",
       "      <th>0</th>\n",
       "      <td>1</td>\n",
       "      <td>2025-05-20 15:00:00</td>\n",
       "      <td>overcast clouds</td>\n",
       "      <td>23.30</td>\n",
       "      <td>22.86</td>\n",
       "      <td>2.81</td>\n",
       "      <td>0.00</td>\n",
       "      <td>2025-05-20 15:37:25</td>\n",
       "    </tr>\n",
       "    <tr>\n",
       "      <th>1</th>\n",
       "      <td>1</td>\n",
       "      <td>2025-05-20 18:00:00</td>\n",
       "      <td>overcast clouds</td>\n",
       "      <td>22.24</td>\n",
       "      <td>21.77</td>\n",
       "      <td>2.27</td>\n",
       "      <td>0.00</td>\n",
       "      <td>2025-05-20 15:37:25</td>\n",
       "    </tr>\n",
       "    <tr>\n",
       "      <th>2</th>\n",
       "      <td>1</td>\n",
       "      <td>2025-05-20 21:00:00</td>\n",
       "      <td>overcast clouds</td>\n",
       "      <td>20.06</td>\n",
       "      <td>19.64</td>\n",
       "      <td>2.33</td>\n",
       "      <td>0.00</td>\n",
       "      <td>2025-05-20 15:37:25</td>\n",
       "    </tr>\n",
       "    <tr>\n",
       "      <th>3</th>\n",
       "      <td>1</td>\n",
       "      <td>2025-05-21 00:00:00</td>\n",
       "      <td>overcast clouds</td>\n",
       "      <td>15.20</td>\n",
       "      <td>14.66</td>\n",
       "      <td>2.74</td>\n",
       "      <td>0.00</td>\n",
       "      <td>2025-05-20 15:37:25</td>\n",
       "    </tr>\n",
       "    <tr>\n",
       "      <th>4</th>\n",
       "      <td>1</td>\n",
       "      <td>2025-05-21 03:00:00</td>\n",
       "      <td>light rain</td>\n",
       "      <td>11.40</td>\n",
       "      <td>10.29</td>\n",
       "      <td>3.02</td>\n",
       "      <td>0.37</td>\n",
       "      <td>2025-05-20 15:37:25</td>\n",
       "    </tr>\n",
       "    <tr>\n",
       "      <th>...</th>\n",
       "      <td>...</td>\n",
       "      <td>...</td>\n",
       "      <td>...</td>\n",
       "      <td>...</td>\n",
       "      <td>...</td>\n",
       "      <td>...</td>\n",
       "      <td>...</td>\n",
       "      <td>...</td>\n",
       "    </tr>\n",
       "    <tr>\n",
       "      <th>195</th>\n",
       "      <td>5</td>\n",
       "      <td>2025-05-25 00:00:00</td>\n",
       "      <td>broken clouds</td>\n",
       "      <td>12.62</td>\n",
       "      <td>12.05</td>\n",
       "      <td>6.77</td>\n",
       "      <td>0.00</td>\n",
       "      <td>2025-05-20 15:37:25</td>\n",
       "    </tr>\n",
       "    <tr>\n",
       "      <th>196</th>\n",
       "      <td>5</td>\n",
       "      <td>2025-05-25 03:00:00</td>\n",
       "      <td>overcast clouds</td>\n",
       "      <td>12.56</td>\n",
       "      <td>11.75</td>\n",
       "      <td>5.42</td>\n",
       "      <td>0.00</td>\n",
       "      <td>2025-05-20 15:37:25</td>\n",
       "    </tr>\n",
       "    <tr>\n",
       "      <th>197</th>\n",
       "      <td>5</td>\n",
       "      <td>2025-05-25 06:00:00</td>\n",
       "      <td>broken clouds</td>\n",
       "      <td>11.45</td>\n",
       "      <td>10.50</td>\n",
       "      <td>5.04</td>\n",
       "      <td>0.00</td>\n",
       "      <td>2025-05-20 15:37:25</td>\n",
       "    </tr>\n",
       "    <tr>\n",
       "      <th>198</th>\n",
       "      <td>5</td>\n",
       "      <td>2025-05-25 09:00:00</td>\n",
       "      <td>broken clouds</td>\n",
       "      <td>15.48</td>\n",
       "      <td>14.34</td>\n",
       "      <td>5.83</td>\n",
       "      <td>0.00</td>\n",
       "      <td>2025-05-20 15:37:25</td>\n",
       "    </tr>\n",
       "    <tr>\n",
       "      <th>199</th>\n",
       "      <td>5</td>\n",
       "      <td>2025-05-25 12:00:00</td>\n",
       "      <td>scattered clouds</td>\n",
       "      <td>17.17</td>\n",
       "      <td>16.04</td>\n",
       "      <td>5.28</td>\n",
       "      <td>0.00</td>\n",
       "      <td>2025-05-20 15:37:25</td>\n",
       "    </tr>\n",
       "  </tbody>\n",
       "</table>\n",
       "<p>200 rows × 8 columns</p>\n",
       "</div>"
      ],
      "text/plain": [
       "     city_id       forecast_time           outlook  temperature  \\\n",
       "0          1 2025-05-20 15:00:00   overcast clouds        23.30   \n",
       "1          1 2025-05-20 18:00:00   overcast clouds        22.24   \n",
       "2          1 2025-05-20 21:00:00   overcast clouds        20.06   \n",
       "3          1 2025-05-21 00:00:00   overcast clouds        15.20   \n",
       "4          1 2025-05-21 03:00:00        light rain        11.40   \n",
       "..       ...                 ...               ...          ...   \n",
       "195        5 2025-05-25 00:00:00     broken clouds        12.62   \n",
       "196        5 2025-05-25 03:00:00   overcast clouds        12.56   \n",
       "197        5 2025-05-25 06:00:00     broken clouds        11.45   \n",
       "198        5 2025-05-25 09:00:00     broken clouds        15.48   \n",
       "199        5 2025-05-25 12:00:00  scattered clouds        17.17   \n",
       "\n",
       "     temperature_felt  wind_speed  rain_expected_mm      retrieval_time  \n",
       "0               22.86        2.81              0.00 2025-05-20 15:37:25  \n",
       "1               21.77        2.27              0.00 2025-05-20 15:37:25  \n",
       "2               19.64        2.33              0.00 2025-05-20 15:37:25  \n",
       "3               14.66        2.74              0.00 2025-05-20 15:37:25  \n",
       "4               10.29        3.02              0.37 2025-05-20 15:37:25  \n",
       "..                ...         ...               ...                 ...  \n",
       "195             12.05        6.77              0.00 2025-05-20 15:37:25  \n",
       "196             11.75        5.42              0.00 2025-05-20 15:37:25  \n",
       "197             10.50        5.04              0.00 2025-05-20 15:37:25  \n",
       "198             14.34        5.83              0.00 2025-05-20 15:37:25  \n",
       "199             16.04        5.28              0.00 2025-05-20 15:37:25  \n",
       "\n",
       "[200 rows x 8 columns]"
      ]
     },
     "execution_count": 31,
     "metadata": {},
     "output_type": "execute_result"
    }
   ],
   "source": [
    "weather_df = get_weather_data(city_from_sql)\n",
    "weather_df"
   ]
  },
  {
   "cell_type": "code",
   "execution_count": 34,
   "metadata": {},
   "outputs": [
    {
     "data": {
      "text/plain": [
       "200"
      ]
     },
     "execution_count": 34,
     "metadata": {},
     "output_type": "execute_result"
    }
   ],
   "source": [
    "# Exporting the weather dataframe to SQL\n",
    "weather_df.to_sql('weather',\n",
    "                  if_exists='append',\n",
    "                  con=connection_string,\n",
    "                  index=False)"
   ]
  },
  {
   "cell_type": "markdown",
   "metadata": {},
   "source": [
    "# 3.3 Fetch and export airport data (Requires 3.1)"
   ]
  },
  {
   "cell_type": "code",
   "execution_count": 35,
   "metadata": {},
   "outputs": [
    {
     "data": {
      "application/vnd.microsoft.datawrangler.viewer.v0+json": {
       "columns": [
        {
         "name": "index",
         "rawType": "int64",
         "type": "integer"
        },
        {
         "name": "icao",
         "rawType": "object",
         "type": "string"
        },
        {
         "name": "iata",
         "rawType": "object",
         "type": "string"
        },
        {
         "name": "airport_name",
         "rawType": "object",
         "type": "string"
        },
        {
         "name": "shortName",
         "rawType": "object",
         "type": "string"
        },
        {
         "name": "municipalityName",
         "rawType": "object",
         "type": "string"
        },
        {
         "name": "countryCode",
         "rawType": "object",
         "type": "string"
        },
        {
         "name": "timeZone",
         "rawType": "object",
         "type": "string"
        },
        {
         "name": "latitude",
         "rawType": "float64",
         "type": "float"
        },
        {
         "name": "longitude",
         "rawType": "float64",
         "type": "float"
        },
        {
         "name": "city_id",
         "rawType": "int64",
         "type": "integer"
        }
       ],
       "conversionMethod": "pd.DataFrame",
       "ref": "09b2715a-e585-4419-9027-863a62de6a2e",
       "rows": [
        [
         "0",
         "EDDT",
         "TXL",
         "Berlin -Tegel",
         "-Tegel",
         "Berlin",
         "DE",
         "Europe/Berlin",
         "52.5597",
         "13.287699",
         "1"
        ],
        [
         "1",
         "EDDB",
         "BER",
         "Berlin Brandenburg",
         "Brandenburg",
         "Berlin",
         "DE",
         "Europe/Berlin",
         "52.35139",
         "13.493889",
         "1"
        ],
        [
         "2",
         "EDDH",
         "HAM",
         "Hamburg",
         "Hamburg",
         "Hamburg",
         "DE",
         "Europe/Berlin",
         "53.6304",
         "9.988229",
         "2"
        ],
        [
         "3",
         "EDDM",
         "MUC",
         "Munich",
         "Munich",
         "Munich",
         "DE",
         "Europe/Berlin",
         "48.3538",
         "11.7861",
         "3"
        ],
        [
         "4",
         "EDDK",
         "CGN",
         "Cologne Bonn",
         "Bonn",
         "Cologne",
         "DE",
         "Europe/Berlin",
         "50.8659",
         "7.142739",
         "4"
        ],
        [
         "5",
         "EGLC",
         "LCY",
         "London City",
         "City",
         "London",
         "GB",
         "Europe/London",
         "51.5053",
         "0.055277",
         "5"
        ],
        [
         "6",
         "EGLL",
         "LHR",
         "London Heathrow",
         "Heathrow",
         "London",
         "GB",
         "Europe/London",
         "51.4706",
         "-0.461941",
         "5"
        ]
       ],
       "shape": {
        "columns": 10,
        "rows": 7
       }
      },
      "text/html": [
       "<div>\n",
       "<style scoped>\n",
       "    .dataframe tbody tr th:only-of-type {\n",
       "        vertical-align: middle;\n",
       "    }\n",
       "\n",
       "    .dataframe tbody tr th {\n",
       "        vertical-align: top;\n",
       "    }\n",
       "\n",
       "    .dataframe thead th {\n",
       "        text-align: right;\n",
       "    }\n",
       "</style>\n",
       "<table border=\"1\" class=\"dataframe\">\n",
       "  <thead>\n",
       "    <tr style=\"text-align: right;\">\n",
       "      <th></th>\n",
       "      <th>icao</th>\n",
       "      <th>iata</th>\n",
       "      <th>airport_name</th>\n",
       "      <th>shortName</th>\n",
       "      <th>municipalityName</th>\n",
       "      <th>countryCode</th>\n",
       "      <th>timeZone</th>\n",
       "      <th>latitude</th>\n",
       "      <th>longitude</th>\n",
       "      <th>city_id</th>\n",
       "    </tr>\n",
       "  </thead>\n",
       "  <tbody>\n",
       "    <tr>\n",
       "      <th>0</th>\n",
       "      <td>EDDT</td>\n",
       "      <td>TXL</td>\n",
       "      <td>Berlin -Tegel</td>\n",
       "      <td>-Tegel</td>\n",
       "      <td>Berlin</td>\n",
       "      <td>DE</td>\n",
       "      <td>Europe/Berlin</td>\n",
       "      <td>52.55970</td>\n",
       "      <td>13.287699</td>\n",
       "      <td>1</td>\n",
       "    </tr>\n",
       "    <tr>\n",
       "      <th>1</th>\n",
       "      <td>EDDB</td>\n",
       "      <td>BER</td>\n",
       "      <td>Berlin Brandenburg</td>\n",
       "      <td>Brandenburg</td>\n",
       "      <td>Berlin</td>\n",
       "      <td>DE</td>\n",
       "      <td>Europe/Berlin</td>\n",
       "      <td>52.35139</td>\n",
       "      <td>13.493889</td>\n",
       "      <td>1</td>\n",
       "    </tr>\n",
       "    <tr>\n",
       "      <th>2</th>\n",
       "      <td>EDDH</td>\n",
       "      <td>HAM</td>\n",
       "      <td>Hamburg</td>\n",
       "      <td>Hamburg</td>\n",
       "      <td>Hamburg</td>\n",
       "      <td>DE</td>\n",
       "      <td>Europe/Berlin</td>\n",
       "      <td>53.63040</td>\n",
       "      <td>9.988229</td>\n",
       "      <td>2</td>\n",
       "    </tr>\n",
       "    <tr>\n",
       "      <th>3</th>\n",
       "      <td>EDDM</td>\n",
       "      <td>MUC</td>\n",
       "      <td>Munich</td>\n",
       "      <td>Munich</td>\n",
       "      <td>Munich</td>\n",
       "      <td>DE</td>\n",
       "      <td>Europe/Berlin</td>\n",
       "      <td>48.35380</td>\n",
       "      <td>11.786100</td>\n",
       "      <td>3</td>\n",
       "    </tr>\n",
       "    <tr>\n",
       "      <th>4</th>\n",
       "      <td>EDDK</td>\n",
       "      <td>CGN</td>\n",
       "      <td>Cologne Bonn</td>\n",
       "      <td>Bonn</td>\n",
       "      <td>Cologne</td>\n",
       "      <td>DE</td>\n",
       "      <td>Europe/Berlin</td>\n",
       "      <td>50.86590</td>\n",
       "      <td>7.142739</td>\n",
       "      <td>4</td>\n",
       "    </tr>\n",
       "    <tr>\n",
       "      <th>5</th>\n",
       "      <td>EGLC</td>\n",
       "      <td>LCY</td>\n",
       "      <td>London City</td>\n",
       "      <td>City</td>\n",
       "      <td>London</td>\n",
       "      <td>GB</td>\n",
       "      <td>Europe/London</td>\n",
       "      <td>51.50530</td>\n",
       "      <td>0.055277</td>\n",
       "      <td>5</td>\n",
       "    </tr>\n",
       "    <tr>\n",
       "      <th>6</th>\n",
       "      <td>EGLL</td>\n",
       "      <td>LHR</td>\n",
       "      <td>London Heathrow</td>\n",
       "      <td>Heathrow</td>\n",
       "      <td>London</td>\n",
       "      <td>GB</td>\n",
       "      <td>Europe/London</td>\n",
       "      <td>51.47060</td>\n",
       "      <td>-0.461941</td>\n",
       "      <td>5</td>\n",
       "    </tr>\n",
       "  </tbody>\n",
       "</table>\n",
       "</div>"
      ],
      "text/plain": [
       "   icao iata        airport_name    shortName municipalityName countryCode  \\\n",
       "0  EDDT  TXL       Berlin -Tegel       -Tegel           Berlin          DE   \n",
       "1  EDDB  BER  Berlin Brandenburg  Brandenburg           Berlin          DE   \n",
       "2  EDDH  HAM             Hamburg      Hamburg          Hamburg          DE   \n",
       "3  EDDM  MUC              Munich       Munich           Munich          DE   \n",
       "4  EDDK  CGN        Cologne Bonn         Bonn          Cologne          DE   \n",
       "5  EGLC  LCY         London City         City           London          GB   \n",
       "6  EGLL  LHR     London Heathrow     Heathrow           London          GB   \n",
       "\n",
       "        timeZone  latitude  longitude  city_id  \n",
       "0  Europe/Berlin  52.55970  13.287699        1  \n",
       "1  Europe/Berlin  52.35139  13.493889        1  \n",
       "2  Europe/Berlin  53.63040   9.988229        2  \n",
       "3  Europe/Berlin  48.35380  11.786100        3  \n",
       "4  Europe/Berlin  50.86590   7.142739        4  \n",
       "5  Europe/London  51.50530   0.055277        5  \n",
       "6  Europe/London  51.47060  -0.461941        5  "
      ]
     },
     "execution_count": 35,
     "metadata": {},
     "output_type": "execute_result"
    }
   ],
   "source": [
    "cities_airports_df = get_airport_info(city_from_sql)\n",
    "cities_airports_df"
   ]
  },
  {
   "cell_type": "code",
   "execution_count": 36,
   "metadata": {},
   "outputs": [
    {
     "data": {
      "application/vnd.microsoft.datawrangler.viewer.v0+json": {
       "columns": [
        {
         "name": "index",
         "rawType": "int64",
         "type": "integer"
        },
        {
         "name": "icao",
         "rawType": "object",
         "type": "string"
        },
        {
         "name": "iata",
         "rawType": "object",
         "type": "string"
        },
        {
         "name": "airport_name",
         "rawType": "object",
         "type": "string"
        }
       ],
       "conversionMethod": "pd.DataFrame",
       "ref": "b1c47910-55a8-46f0-ad75-733f6dc507d1",
       "rows": [
        [
         "0",
         "EDDT",
         "TXL",
         "Berlin -Tegel"
        ],
        [
         "1",
         "EDDB",
         "BER",
         "Berlin Brandenburg"
        ],
        [
         "2",
         "EDDH",
         "HAM",
         "Hamburg"
        ],
        [
         "3",
         "EDDM",
         "MUC",
         "Munich"
        ],
        [
         "4",
         "EDDK",
         "CGN",
         "Cologne Bonn"
        ],
        [
         "5",
         "EGLC",
         "LCY",
         "London City"
        ],
        [
         "6",
         "EGLL",
         "LHR",
         "London Heathrow"
        ]
       ],
       "shape": {
        "columns": 3,
        "rows": 7
       }
      },
      "text/html": [
       "<div>\n",
       "<style scoped>\n",
       "    .dataframe tbody tr th:only-of-type {\n",
       "        vertical-align: middle;\n",
       "    }\n",
       "\n",
       "    .dataframe tbody tr th {\n",
       "        vertical-align: top;\n",
       "    }\n",
       "\n",
       "    .dataframe thead th {\n",
       "        text-align: right;\n",
       "    }\n",
       "</style>\n",
       "<table border=\"1\" class=\"dataframe\">\n",
       "  <thead>\n",
       "    <tr style=\"text-align: right;\">\n",
       "      <th></th>\n",
       "      <th>icao</th>\n",
       "      <th>iata</th>\n",
       "      <th>airport_name</th>\n",
       "    </tr>\n",
       "  </thead>\n",
       "  <tbody>\n",
       "    <tr>\n",
       "      <th>0</th>\n",
       "      <td>EDDT</td>\n",
       "      <td>TXL</td>\n",
       "      <td>Berlin -Tegel</td>\n",
       "    </tr>\n",
       "    <tr>\n",
       "      <th>1</th>\n",
       "      <td>EDDB</td>\n",
       "      <td>BER</td>\n",
       "      <td>Berlin Brandenburg</td>\n",
       "    </tr>\n",
       "    <tr>\n",
       "      <th>2</th>\n",
       "      <td>EDDH</td>\n",
       "      <td>HAM</td>\n",
       "      <td>Hamburg</td>\n",
       "    </tr>\n",
       "    <tr>\n",
       "      <th>3</th>\n",
       "      <td>EDDM</td>\n",
       "      <td>MUC</td>\n",
       "      <td>Munich</td>\n",
       "    </tr>\n",
       "    <tr>\n",
       "      <th>4</th>\n",
       "      <td>EDDK</td>\n",
       "      <td>CGN</td>\n",
       "      <td>Cologne Bonn</td>\n",
       "    </tr>\n",
       "    <tr>\n",
       "      <th>5</th>\n",
       "      <td>EGLC</td>\n",
       "      <td>LCY</td>\n",
       "      <td>London City</td>\n",
       "    </tr>\n",
       "    <tr>\n",
       "      <th>6</th>\n",
       "      <td>EGLL</td>\n",
       "      <td>LHR</td>\n",
       "      <td>London Heathrow</td>\n",
       "    </tr>\n",
       "  </tbody>\n",
       "</table>\n",
       "</div>"
      ],
      "text/plain": [
       "   icao iata        airport_name\n",
       "0  EDDT  TXL       Berlin -Tegel\n",
       "1  EDDB  BER  Berlin Brandenburg\n",
       "2  EDDH  HAM             Hamburg\n",
       "3  EDDM  MUC              Munich\n",
       "4  EDDK  CGN        Cologne Bonn\n",
       "5  EGLC  LCY         London City\n",
       "6  EGLL  LHR     London Heathrow"
      ]
     },
     "execution_count": 36,
     "metadata": {},
     "output_type": "execute_result"
    }
   ],
   "source": [
    "airports_df = create_airport_df(cities_airports_df)\n",
    "airports_df"
   ]
  },
  {
   "cell_type": "code",
   "execution_count": 37,
   "metadata": {},
   "outputs": [
    {
     "data": {
      "text/plain": [
       "7"
      ]
     },
     "execution_count": 37,
     "metadata": {},
     "output_type": "execute_result"
    }
   ],
   "source": [
    "#Export airports_df to SQL\n",
    "airports_df.to_sql('airports',\n",
    "                  if_exists='append',\n",
    "                  con=connection_string,\n",
    "                  index=False)"
   ]
  },
  {
   "cell_type": "code",
   "execution_count": 38,
   "metadata": {},
   "outputs": [
    {
     "data": {
      "text/plain": [
       "7"
      ]
     },
     "execution_count": 38,
     "metadata": {},
     "output_type": "execute_result"
    }
   ],
   "source": [
    "#Export cities_airports_df to SQL \n",
    "cities_airports_df.to_sql('cities_airports',\n",
    "                  if_exists='append',\n",
    "                  con=connection_string,\n",
    "                  index=False)"
   ]
  },
  {
   "cell_type": "markdown",
   "metadata": {},
   "source": [
    "## 3.4 Filling the database with flight info"
   ]
  },
  {
   "cell_type": "code",
   "execution_count": null,
   "metadata": {},
   "outputs": [
    {
     "data": {
      "application/vnd.microsoft.datawrangler.viewer.v0+json": {
       "columns": [
        {
         "name": "index",
         "rawType": "int64",
         "type": "integer"
        },
        {
         "name": "flight_num",
         "rawType": "object",
         "type": "string"
        },
        {
         "name": "departure_icao",
         "rawType": "object",
         "type": "string"
        },
        {
         "name": "arrival_icao",
         "rawType": "object",
         "type": "string"
        },
        {
         "name": "arrival_time",
         "rawType": "datetime64[ns]",
         "type": "datetime"
        },
        {
         "name": "retrieval_time",
         "rawType": "datetime64[ns]",
         "type": "datetime"
        }
       ],
       "conversionMethod": "pd.DataFrame",
       "ref": "dd8a357b-fefb-4833-9c7b-009a5b2e676d",
       "rows": [
        [
         "0",
         "XQ 1768",
         "LTFH",
         "EDDB",
         "2025-05-21 06:45:00",
         "2025-05-20 15:42:41"
        ],
        [
         "1",
         "HU 489",
         "ZBAA",
         "EDDB",
         "2025-05-21 06:45:00",
         "2025-05-20 15:42:41"
        ],
        [
         "2",
         "DL 92",
         "KJFK",
         "EDDB",
         "2025-05-21 07:00:00",
         "2025-05-20 15:42:41"
        ],
        [
         "3",
         "VS 3846",
         "KJFK",
         "EDDB",
         "2025-05-21 07:00:00",
         "2025-05-20 15:42:41"
        ],
        [
         "4",
         "KL 6153",
         "KJFK",
         "EDDB",
         "2025-05-21 07:00:00",
         "2025-05-20 15:42:41"
        ],
        [
         "5",
         "AF 9085",
         "KJFK",
         "EDDB",
         "2025-05-21 07:00:00",
         "2025-05-20 15:42:41"
        ],
        [
         "6",
         "UA 962",
         "KEWR",
         "EDDB",
         "2025-05-21 07:15:00",
         "2025-05-20 15:42:41"
        ],
        [
         "7",
         "LH 170",
         "EDDF",
         "EDDB",
         "2025-05-21 07:25:00",
         "2025-05-20 15:42:41"
        ],
        [
         "8",
         "QR 79",
         "OTHH",
         "EDDB",
         "2025-05-21 07:25:00",
         "2025-05-20 15:42:41"
        ],
        [
         "9",
         "FR 137",
         "LIPE",
         "EDDB",
         "2025-05-21 07:40:00",
         "2025-05-20 15:42:41"
        ],
        [
         "10",
         "SN 2579",
         "EBBR",
         "EDDB",
         "2025-05-21 07:45:00",
         "2025-05-20 15:42:41"
        ],
        [
         "11",
         "EW 2",
         "EDDK",
         "EDDB",
         "2025-05-21 07:45:00",
         "2025-05-20 15:42:41"
        ],
        [
         "12",
         "U2 4631",
         "LFPG",
         "EDDB",
         "2025-05-21 07:50:00",
         "2025-05-20 15:42:41"
        ],
        [
         "13",
         "EC 4631",
         "LFPG",
         "EDDB",
         "2025-05-21 07:50:00",
         "2025-05-20 15:42:41"
        ],
        [
         "14",
         "FR 9955",
         "LIRP",
         "EDDB",
         "2025-05-21 07:50:00",
         "2025-05-20 15:42:41"
        ],
        [
         "15",
         "NH 6209",
         "EDDF",
         "EDDB",
         "2025-05-21 07:55:00",
         "2025-05-20 15:42:41"
        ],
        [
         "16",
         "LH 172",
         "EDDF",
         "EDDB",
         "2025-05-21 07:55:00",
         "2025-05-20 15:42:41"
        ],
        [
         "17",
         "DE 4095",
         "EDDF",
         "EDDB",
         "2025-05-21 08:00:00",
         "2025-05-20 15:42:41"
        ],
        [
         "18",
         "DE 4095",
         "EDDF",
         "EDDB",
         "2025-05-21 08:00:00",
         "2025-05-20 15:42:41"
        ],
        [
         "19",
         "LH 1928",
         "EDDM",
         "EDDB",
         "2025-05-21 08:05:00",
         "2025-05-20 15:42:41"
        ],
        [
         "20",
         "AY 1431",
         "EFHK",
         "EDDB",
         "2025-05-21 08:05:00",
         "2025-05-20 15:42:41"
        ],
        [
         "21",
         "TP 8791",
         "EFHK",
         "EDDB",
         "2025-05-21 08:05:00",
         "2025-05-20 15:42:41"
        ],
        [
         "22",
         "JL 6899",
         "EFHK",
         "EDDB",
         "2025-05-21 08:05:00",
         "2025-05-20 15:42:41"
        ],
        [
         "23",
         "DX 121",
         "EDDR",
         "EDDB",
         "2025-05-21 08:05:00",
         "2025-05-20 15:42:41"
        ],
        [
         "24",
         "OS 223",
         "LOWW",
         "EDDB",
         "2025-05-21 08:10:00",
         "2025-05-20 15:42:41"
        ],
        [
         "25",
         "DE 2501",
         "OMDB",
         "EDDB",
         "2025-05-21 08:10:00",
         "2025-05-20 15:42:41"
        ],
        [
         "26",
         "EW 9040",
         "EDDL",
         "EDDB",
         "2025-05-21 08:15:00",
         "2025-05-20 15:42:41"
        ],
        [
         "27",
         "KL 1771",
         "EHAM",
         "EDDB",
         "2025-05-21 08:25:00",
         "2025-05-20 15:42:41"
        ],
        [
         "28",
         "FR 149",
         "LEBL",
         "EDDB",
         "2025-05-21 08:25:00",
         "2025-05-20 15:42:41"
        ],
        [
         "29",
         "FR 106",
         "LEPA",
         "EDDB",
         "2025-05-21 08:30:00",
         "2025-05-20 15:42:41"
        ],
        [
         "30",
         "U2 5262",
         "EKCH",
         "EDDB",
         "2025-05-21 08:45:00",
         "2025-05-20 15:42:41"
        ],
        [
         "31",
         "EC 5262",
         "EKCH",
         "EDDB",
         "2025-05-21 08:45:00",
         "2025-05-20 15:42:41"
        ],
        [
         "32",
         "LX 974",
         "LSZH",
         "EDDB",
         "2025-05-21 08:45:00",
         "2025-05-20 15:42:41"
        ],
        [
         "33",
         "AC 6802",
         "LSZH",
         "EDDB",
         "2025-05-21 08:45:00",
         "2025-05-20 15:42:41"
        ],
        [
         "34",
         "TG 7610",
         "EDDF",
         "EDDB",
         "2025-05-21 08:55:00",
         "2025-05-20 15:42:41"
        ],
        [
         "35",
         "LH 174",
         "EDDF",
         "EDDB",
         "2025-05-21 08:55:00",
         "2025-05-20 15:42:41"
        ],
        [
         "36",
         "UA 8990",
         "EDDF",
         "EDDB",
         "2025-05-21 08:55:00",
         "2025-05-20 15:42:41"
        ],
        [
         "37",
         "ET 1579",
         "EDDF",
         "EDDB",
         "2025-05-21 08:55:00",
         "2025-05-20 15:42:41"
        ],
        [
         "38",
         "AC 9117",
         "EDDF",
         "EDDB",
         "2025-05-21 08:55:00",
         "2025-05-20 15:42:41"
        ],
        [
         "39",
         "FR 2788",
         "EGSS",
         "EDDB",
         "2025-05-21 08:55:00",
         "2025-05-20 15:42:41"
        ],
        [
         "40",
         "AF 1434",
         "LFPG",
         "EDDB",
         "2025-05-21 08:55:00",
         "2025-05-20 15:42:41"
        ],
        [
         "41",
         "LH 5343",
         "ESSA",
         "EDDB",
         "2025-05-21 09:05:00",
         "2025-05-20 15:42:41"
        ],
        [
         "42",
         "EW 4608",
         "ESSA",
         "EDDB",
         "2025-05-21 09:05:00",
         "2025-05-20 15:42:41"
        ],
        [
         "43",
         "DY 1102",
         "ENGM",
         "EDDB",
         "2025-05-21 09:05:00",
         "2025-05-20 15:42:41"
        ],
        [
         "44",
         "XR 373",
         "LGIR",
         "EDDB",
         "2025-05-21 09:10:00",
         "2025-05-20 15:42:41"
        ],
        [
         "45",
         "VL 1930",
         "EDDM",
         "EDDB",
         "2025-05-21 09:10:00",
         "2025-05-20 15:42:41"
        ],
        [
         "46",
         "U2 2601",
         "EGGW",
         "EDDB",
         "2025-05-21 09:10:00",
         "2025-05-20 15:42:41"
        ],
        [
         "47",
         "EW 8001",
         "EDDS",
         "EDDB",
         "2025-05-21 09:15:00",
         "2025-05-20 15:42:41"
        ],
        [
         "48",
         "EC 4265",
         "LIRN",
         "EDDB",
         "2025-05-21 09:20:00",
         "2025-05-20 15:42:41"
        ],
        [
         "49",
         "U2 4265",
         "LIRN",
         "EDDB",
         "2025-05-21 09:20:00",
         "2025-05-20 15:42:41"
        ]
       ],
       "shape": {
        "columns": 5,
        "rows": 3821
       }
      },
      "text/html": [
       "<div>\n",
       "<style scoped>\n",
       "    .dataframe tbody tr th:only-of-type {\n",
       "        vertical-align: middle;\n",
       "    }\n",
       "\n",
       "    .dataframe tbody tr th {\n",
       "        vertical-align: top;\n",
       "    }\n",
       "\n",
       "    .dataframe thead th {\n",
       "        text-align: right;\n",
       "    }\n",
       "</style>\n",
       "<table border=\"1\" class=\"dataframe\">\n",
       "  <thead>\n",
       "    <tr style=\"text-align: right;\">\n",
       "      <th></th>\n",
       "      <th>flight_num</th>\n",
       "      <th>departure_icao</th>\n",
       "      <th>arrival_icao</th>\n",
       "      <th>arrival_time</th>\n",
       "      <th>retrieval_time</th>\n",
       "    </tr>\n",
       "  </thead>\n",
       "  <tbody>\n",
       "    <tr>\n",
       "      <th>0</th>\n",
       "      <td>XQ 1768</td>\n",
       "      <td>LTFH</td>\n",
       "      <td>EDDB</td>\n",
       "      <td>2025-05-21 06:45:00</td>\n",
       "      <td>2025-05-20 15:42:41</td>\n",
       "    </tr>\n",
       "    <tr>\n",
       "      <th>1</th>\n",
       "      <td>HU 489</td>\n",
       "      <td>ZBAA</td>\n",
       "      <td>EDDB</td>\n",
       "      <td>2025-05-21 06:45:00</td>\n",
       "      <td>2025-05-20 15:42:41</td>\n",
       "    </tr>\n",
       "    <tr>\n",
       "      <th>2</th>\n",
       "      <td>DL 92</td>\n",
       "      <td>KJFK</td>\n",
       "      <td>EDDB</td>\n",
       "      <td>2025-05-21 07:00:00</td>\n",
       "      <td>2025-05-20 15:42:41</td>\n",
       "    </tr>\n",
       "    <tr>\n",
       "      <th>3</th>\n",
       "      <td>VS 3846</td>\n",
       "      <td>KJFK</td>\n",
       "      <td>EDDB</td>\n",
       "      <td>2025-05-21 07:00:00</td>\n",
       "      <td>2025-05-20 15:42:41</td>\n",
       "    </tr>\n",
       "    <tr>\n",
       "      <th>4</th>\n",
       "      <td>KL 6153</td>\n",
       "      <td>KJFK</td>\n",
       "      <td>EDDB</td>\n",
       "      <td>2025-05-21 07:00:00</td>\n",
       "      <td>2025-05-20 15:42:41</td>\n",
       "    </tr>\n",
       "    <tr>\n",
       "      <th>...</th>\n",
       "      <td>...</td>\n",
       "      <td>...</td>\n",
       "      <td>...</td>\n",
       "      <td>...</td>\n",
       "      <td>...</td>\n",
       "    </tr>\n",
       "    <tr>\n",
       "      <th>3816</th>\n",
       "      <td>AI 7914</td>\n",
       "      <td>LPPT</td>\n",
       "      <td>EGLL</td>\n",
       "      <td>2025-05-21 22:55:00</td>\n",
       "      <td>2025-05-20 15:42:41</td>\n",
       "    </tr>\n",
       "    <tr>\n",
       "      <th>3817</th>\n",
       "      <td>AC 2708</td>\n",
       "      <td>LPPT</td>\n",
       "      <td>EGLL</td>\n",
       "      <td>2025-05-21 22:55:00</td>\n",
       "      <td>2025-05-20 15:42:41</td>\n",
       "    </tr>\n",
       "    <tr>\n",
       "      <th>3818</th>\n",
       "      <td>TP 1366</td>\n",
       "      <td>LPPT</td>\n",
       "      <td>EGLL</td>\n",
       "      <td>2025-05-21 22:55:00</td>\n",
       "      <td>2025-05-20 15:42:41</td>\n",
       "    </tr>\n",
       "    <tr>\n",
       "      <th>3819</th>\n",
       "      <td>AD 7174</td>\n",
       "      <td>LPPT</td>\n",
       "      <td>EGLL</td>\n",
       "      <td>2025-05-21 22:55:00</td>\n",
       "      <td>2025-05-20 15:42:41</td>\n",
       "    </tr>\n",
       "    <tr>\n",
       "      <th>3820</th>\n",
       "      <td>S4 8620</td>\n",
       "      <td>LPPT</td>\n",
       "      <td>EGLL</td>\n",
       "      <td>2025-05-21 22:55:00</td>\n",
       "      <td>2025-05-20 15:42:41</td>\n",
       "    </tr>\n",
       "  </tbody>\n",
       "</table>\n",
       "<p>3821 rows × 5 columns</p>\n",
       "</div>"
      ],
      "text/plain": [
       "     flight_num departure_icao arrival_icao        arrival_time  \\\n",
       "0       XQ 1768           LTFH         EDDB 2025-05-21 06:45:00   \n",
       "1        HU 489           ZBAA         EDDB 2025-05-21 06:45:00   \n",
       "2         DL 92           KJFK         EDDB 2025-05-21 07:00:00   \n",
       "3       VS 3846           KJFK         EDDB 2025-05-21 07:00:00   \n",
       "4       KL 6153           KJFK         EDDB 2025-05-21 07:00:00   \n",
       "...         ...            ...          ...                 ...   \n",
       "3816    AI 7914           LPPT         EGLL 2025-05-21 22:55:00   \n",
       "3817    AC 2708           LPPT         EGLL 2025-05-21 22:55:00   \n",
       "3818    TP 1366           LPPT         EGLL 2025-05-21 22:55:00   \n",
       "3819    AD 7174           LPPT         EGLL 2025-05-21 22:55:00   \n",
       "3820    S4 8620           LPPT         EGLL 2025-05-21 22:55:00   \n",
       "\n",
       "          retrieval_time  \n",
       "0    2025-05-20 15:42:41  \n",
       "1    2025-05-20 15:42:41  \n",
       "2    2025-05-20 15:42:41  \n",
       "3    2025-05-20 15:42:41  \n",
       "4    2025-05-20 15:42:41  \n",
       "...                  ...  \n",
       "3816 2025-05-20 15:42:41  \n",
       "3817 2025-05-20 15:42:41  \n",
       "3818 2025-05-20 15:42:41  \n",
       "3819 2025-05-20 15:42:41  \n",
       "3820 2025-05-20 15:42:41  \n",
       "\n",
       "[3821 rows x 5 columns]"
      ]
     },
     "execution_count": 39,
     "metadata": {},
     "output_type": "execute_result"
    }
   ],
   "source": [
    "# Fetch flights for the airports\n",
    "flights_df = get_flights(airports_df['icao'])\n",
    "flights_df"
   ]
  },
  {
   "cell_type": "code",
   "execution_count": 40,
   "metadata": {},
   "outputs": [
    {
     "data": {
      "text/plain": [
       "3821"
      ]
     },
     "execution_count": 40,
     "metadata": {},
     "output_type": "execute_result"
    }
   ],
   "source": [
    "#Export flights dataframes to SQL\n",
    "flights_df.to_sql('flights',\n",
    "                  if_exists='append',\n",
    "                  con=connection_string,\n",
    "                  index=False)"
   ]
  },
  {
   "cell_type": "markdown",
   "metadata": {},
   "source": [
    "# 4 Updating the weather and flight data on local database"
   ]
  },
  {
   "cell_type": "code",
   "execution_count": null,
   "metadata": {},
   "outputs": [
    {
     "data": {
      "text/plain": [
       "'success'"
      ]
     },
     "execution_count": 41,
     "metadata": {},
     "output_type": "execute_result"
    }
   ],
   "source": [
    "# Fetch an update to the weather and flight data and automatically update the SQL tables\n",
    "update_weather_flights(local_con)"
   ]
  },
  {
   "cell_type": "markdown",
   "metadata": {},
   "source": [
    "# 5 Transferring data from local to cloud"
   ]
  },
  {
   "cell_type": "code",
   "execution_count": null,
   "metadata": {},
   "outputs": [],
   "source": [
    "# Importing the dataframes from local SQL\n",
    "city_df, population_df, airports_df, cities_airports_df = fetch_static_data(local_con)\n",
    "weather_df, flights_df = fetch_dynamic_data(local_con)"
   ]
  },
  {
   "cell_type": "code",
   "execution_count": 16,
   "metadata": {},
   "outputs": [
    {
     "data": {
      "text/plain": [
       "'success'"
      ]
     },
     "execution_count": 16,
     "metadata": {},
     "output_type": "execute_result"
    }
   ],
   "source": [
    "# Exporting the dataframes into cloud SQL\n",
    "submit_static_data(city_df, population_df, airports_df, cities_airports_df, cloud_con)\n",
    "submit_weather_data(weather_df, cloud_con)\n",
    "submit_flights_data(flights_df, cloud_con)"
   ]
  }
 ],
 "metadata": {
  "kernelspec": {
   "display_name": "base",
   "language": "python",
   "name": "python3"
  },
  "language_info": {
   "codemirror_mode": {
    "name": "ipython",
    "version": 3
   },
   "file_extension": ".py",
   "mimetype": "text/x-python",
   "name": "python",
   "nbconvert_exporter": "python",
   "pygments_lexer": "ipython3",
   "version": "3.12.9"
  }
 },
 "nbformat": 4,
 "nbformat_minor": 2
}
