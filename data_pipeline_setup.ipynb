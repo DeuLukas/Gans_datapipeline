{
 "cells": [
  {
   "cell_type": "markdown",
   "metadata": {},
   "source": [
    "# 1 Import all packages"
   ]
  },
  {
   "cell_type": "code",
   "execution_count": null,
   "metadata": {},
   "outputs": [],
   "source": [
    "import pandas as pd\n",
    "import requests\n",
    "import re\n",
    "from pytz import timezone #to select current timezone\n",
    "from datetime import datetime, timedelta # creating timestamps \n",
    "from bs4 import BeautifulSoup\n",
    "from lat_lon_parser import parse    # for decimal coordinates\n",
    "import sqlalchemy\n",
    "import pymysql"
   ]
  },
  {
   "cell_type": "code",
   "execution_count": 2,
   "metadata": {},
   "outputs": [],
   "source": [
    "# sql root and api keys. Utilizes .env file and config.py to configure password management\n",
    "from config import SQL_ROOT, OPENWEATHER_API_KEY, AIRPORT_GEO_API_KEY, RAPID_API_WBS\n",
    "from con_cloud import con as cloud_con\n",
    "from con_local import con as local_con"
   ]
  },
  {
   "cell_type": "markdown",
   "metadata": {},
   "source": [
    "## 2.1 Dataframe creation for city data"
   ]
  },
  {
   "cell_type": "code",
   "execution_count": 3,
   "metadata": {},
   "outputs": [],
   "source": [
    "def cities_dataframe(cities):\n",
    "\n",
    "  city_data = []\n",
    "  population_data = []\n",
    "\n",
    "  for city in cities:\n",
    "    url = f\"https://www.wikipedia.org/wiki/{city}\"\n",
    "    response = requests.get(url)\n",
    "    city_soup = BeautifulSoup(response.content, 'html.parser')\n",
    "\n",
    "    # extract the relevant information\n",
    "    city_latitude = city_soup.find(class_=\"latitude\").get_text()\n",
    "    city_longitude = city_soup.find(class_=\"longitude\").get_text()\n",
    "    country = city_soup.find(class_=\"infobox-data\").get_text()\n",
    "\n",
    "    # keep track of data per city\n",
    "    city_data.append({\"city\": city,\n",
    "                    \"country\": country,\n",
    "                    \"latitude\": parse(city_latitude), # latitude in decimal format\n",
    "                    \"longitude\": parse(city_longitude), # longitude in decimal format\n",
    "                    })\n",
    "    \n",
    "    # extract the relevant information\n",
    "    city_population = city_soup.find(string=\"Population\").find_next(\"td\").get_text()\n",
    "    try:\n",
    "      city_population_clean = int(city_population.replace(\",\", \"\"))\n",
    "    except:\n",
    "      city_population_clean = -999\n",
    "    today = datetime.today().strftime(\"%Y-%m-%d\")\n",
    "    pop_census = city_soup.find(string = 'Population').find_next('div').get_text()\n",
    "    try:\n",
    "      yr_census = re.findall(r'[0-9]{4}', pop_census)[0]\n",
    "    except:\n",
    "      yr_census = -999\n",
    "\n",
    "    # for each city we append a dictionary of values to the list\n",
    "    population_data.append({\"city\": city,\n",
    "                          \"population\": city_population_clean,\n",
    "                          \"population_timestamp\": int(yr_census),\n",
    "                          \"retrieval_timestamp\": today\n",
    "                          })\n",
    "\n",
    "\n",
    "  return pd.DataFrame(population_data), pd.DataFrame(city_data)"
   ]
  },
  {
   "cell_type": "markdown",
   "metadata": {},
   "source": [
    "## 2.2 Dataframe creation for weather data"
   ]
  },
  {
   "cell_type": "code",
   "execution_count": null,
   "metadata": {},
   "outputs": [],
   "source": [
    "def get_weather_data(input_city_df):\n",
    "\n",
    "    \n",
    "    # Setting up lists for later dataframe creation\n",
    "    city_id = []\n",
    "    forecast_time = []\n",
    "    outlook = []\n",
    "    temperature = []\n",
    "    temperature_felt = []\n",
    "    wind_speed = []\n",
    "    rain_expected_mm = []\n",
    "    retrieval_time = []\n",
    "\n",
    "    # Prepping time and source related references\n",
    "    berlin_timezone = timezone('Europe/Berlin')\n",
    "    \n",
    "    url = \"https://api.openweathermap.org/data/2.5/forecast\"\n",
    "\n",
    "    for id in input_city_df['city_id']:\n",
    "        querystring = {\"lat\": input_city_df.loc[input_city_df['city_id'] == id, :]['latitude'], \"lon\": input_city_df.loc[input_city_df['city_id'] == id, :]['longitude'], \"appid\": OPENWEATHER_API_KEY, \"units\": \"metric\"}\n",
    "        retrieval_timestamp = datetime.now(berlin_timezone).strftime(\"%Y-%m-%d %H:%M:%S\")\n",
    "        # Reference the sections in the request.\n",
    "        weather = requests.request(\"GET\", url, params=querystring)\n",
    "        weather_json = weather.json()\n",
    "\n",
    "        for element in weather_json['list']:\n",
    "            city_id.append(id)\n",
    "            forecast_time.append(element['dt_txt'])\n",
    "            outlook.append(element['weather'][0]['description'])\n",
    "            temperature.append(element['main']['temp'])\n",
    "            temperature_felt.append(element['main']['feels_like'])\n",
    "            wind_speed.append(element['wind']['speed'])\n",
    "            try:\n",
    "                rain_expected_mm.append(element['rain']['3h'])\n",
    "            except:\n",
    "                rain_expected_mm.append(0)\n",
    "            retrieval_time.append(retrieval_timestamp)\n",
    "\n",
    "    weather_df_dictionary = pd.DataFrame({\"city_id\": city_id,\n",
    "                                        \"forecast_time\": forecast_time,\n",
    "                                        \"outlook\": outlook,\n",
    "                                        \"temperature\": temperature,\n",
    "                                        \"temperature_felt\": temperature_felt,\n",
    "                                        \"wind_speed\": wind_speed,\n",
    "                                        \"rain_expected_mm\": rain_expected_mm,\n",
    "                                        \"retrieval_time\": retrieval_time}\n",
    "                                    )\n",
    "    weather_df_dictionary[\"forecast_time\"] = pd.to_datetime(weather_df_dictionary[\"forecast_time\"])\n",
    "    weather_df_dictionary[\"retrieval_time\"] = pd.to_datetime(weather_df_dictionary[\"retrieval_time\"]) \n",
    "    return weather_df_dictionary\n"
   ]
  },
  {
   "cell_type": "markdown",
   "metadata": {},
   "source": [
    "## 2.3 Dataframe Creation for Airport Info"
   ]
  },
  {
   "cell_type": "code",
   "execution_count": null,
   "metadata": {},
   "outputs": [],
   "source": [
    "def get_airport_info(input_city_df):\n",
    "    url = \"https://aerodatabox.p.rapidapi.com/airports/search/location\"\n",
    "    cities_airports = []\n",
    "\n",
    "    for id in input_city_df['city_id']:\n",
    "        querystring = {\"lat\":input_city_df.loc[input_city_df['city_id'] == id, :]['latitude'],\n",
    "                \"lon\":input_city_df.loc[input_city_df['city_id'] == id, :]['longitude'],\n",
    "                \"radiusKm\":\"30\",\n",
    "                \"limit\":\"8\",\n",
    "                \"withFlightInfoOnly\":\"True\"\n",
    "                }\n",
    "\n",
    "        headers = {\n",
    "        \"x-rapidapi-key\": RAPID_API_WBS,\n",
    "        \"x-rapidapi-host\": \"aerodatabox.p.rapidapi.com\"\n",
    "        }\n",
    "\n",
    "        airport_geo_json = requests.get(url, headers=headers, params=querystring).json()\n",
    "\n",
    "        city_airports = pd.json_normalize(airport_geo_json['items'])\n",
    "        city_airports['city_id'] = id\n",
    "        cities_airports.append(city_airports)\n",
    "\n",
    "    cities_airports_df = pd.concat(cities_airports, ignore_index=True)\n",
    "    cities_airports_df.rename(columns = {'name': 'airport_name', 'location.lat': 'latitude', 'location.lon': 'longitude'}, inplace = True)\n",
    "    return cities_airports_df\n"
   ]
  },
  {
   "cell_type": "code",
   "execution_count": 6,
   "metadata": {},
   "outputs": [],
   "source": [
    "# Creating the airports_df for unique icao/iata combination. icao is FK to icao in cities_airports\n",
    "def create_airport_df(cities_airports_df):\n",
    "    airports_icao = []\n",
    "    airports_iata = []\n",
    "    airports_name = []\n",
    "    for icao_id in cities_airports_df['icao']:\n",
    "        if icao_id in cities_airports_df['icao'].unique() and icao_id not in airports_icao:\n",
    "            airports_icao.append(icao_id)\n",
    "            airports_iata.append(cities_airports_df.loc[cities_airports_df['icao'] == icao_id]['iata'].reset_index(drop=True)[0])\n",
    "            airports_name.append(cities_airports_df.loc[cities_airports_df['icao'] == icao_id]['airport_name'].reset_index(drop=True)[0])\n",
    "    airports_df_dictionary = pd.DataFrame({\"icao\": airports_icao,\n",
    "                                        \"iata\": airports_iata,\n",
    "                                        \"airport_name\": airports_name\n",
    "                                        })\n",
    "    return airports_df_dictionary"
   ]
  },
  {
   "cell_type": "markdown",
   "metadata": {},
   "source": [
    "## 2.4 Function for flights dataframe creation"
   ]
  },
  {
   "cell_type": "code",
   "execution_count": null,
   "metadata": {},
   "outputs": [],
   "source": [
    "def get_flights(input_icao_list):\n",
    "    querystring = {\"withLeg\":\"True\",\n",
    "                \"direction\":\"Arrival\",\n",
    "                \"withCancelled\":\"False\",\n",
    "                \"withCodeshared\":\"True\",\n",
    "                \"withCargo\":\"False\",\n",
    "                \"withPrivate\":\"False\",\n",
    "                \"withLocation\":\"False\"\n",
    "                }\n",
    "\n",
    "    headers = \t{\n",
    "                \"x-rapidapi-key\": RAPID_API_WBS,\n",
    "                \"x-rapidapi-host\": \"aerodatabox.p.rapidapi.com\"\n",
    "                }\n",
    "\n",
    "    berlin_timezone = timezone('Europe/Berlin')\n",
    "    today = datetime.now(berlin_timezone).date()\n",
    "    tomorrow = (today + timedelta(days=1))\n",
    "    times = [[\"00:00\",\"11:59\"],\n",
    "            [\"12:00\",\"23:59\"]]\n",
    "\n",
    "    flight_num = []\n",
    "    departure_icao = []\n",
    "    arrival_icao = []\n",
    "    arrival_time = []\n",
    "    retrieval_time = []\n",
    "\n",
    "\n",
    "    retrieval_timestamp = datetime.now(berlin_timezone).strftime(\"%Y-%m-%d %H:%M:%S\")\n",
    "\n",
    "    for airport in input_icao_list:\n",
    "        for time in times:\n",
    "            url = f\"https://aerodatabox.p.rapidapi.com/flights/airports/icao/{airport}/{tomorrow}T{time[0]}/{tomorrow}T{time[1]}\"\n",
    "\n",
    "            flights_response = requests.get(url, headers=headers, params=querystring)\n",
    "            try:\n",
    "                flights_json = flights_response.json()\n",
    "            except requests.JSONDecodeError:\n",
    "                continue\n",
    "            for flight in flights_json['arrivals']:\n",
    "                flight_num.append(flight['number'])\n",
    "                try:\n",
    "                    departure_icao.append(flight['departure']['airport']['icao'])\n",
    "                except:\n",
    "                    departure_icao.append('')\n",
    "                arrival_icao.append(airport)\n",
    "                arrival_time.append(flight['arrival']['scheduledTime']['local'])\n",
    "                retrieval_time.append(retrieval_timestamp)\n",
    "    airports_df_dictionary = pd.DataFrame({\"flight_num\": flight_num,\n",
    "                                        \"departure_icao\": departure_icao,\n",
    "                                        \"arrival_icao\": arrival_icao,\n",
    "                                        \"arrival_time\": arrival_time,\n",
    "                                        \"retrieval_time\": retrieval_time\n",
    "                                            })\n",
    "    airports_df_dictionary[\"arrival_time\"] = airports_df_dictionary[\"arrival_time\"].str[:-6]\n",
    "    airports_df_dictionary[\"arrival_time\"] = pd.to_datetime(airports_df_dictionary[\"arrival_time\"])\n",
    "    airports_df_dictionary[\"retrieval_time\"] = pd.to_datetime(airports_df_dictionary[\"retrieval_time\"])\n",
    "    return airports_df_dictionary\n",
    "        "
   ]
  },
  {
   "cell_type": "markdown",
   "metadata": {},
   "source": [
    "## 2.5 Function that fetches city and population airports and cities_airports data from a database"
   ]
  },
  {
   "cell_type": "code",
   "execution_count": 3,
   "metadata": {},
   "outputs": [],
   "source": [
    "def fetch_static_data(connection):\n",
    "    city_df             = pd.read_sql(\"city\", \n",
    "                                     con=connection)\n",
    "    population_df       = pd.read_sql(\"population\",\n",
    "                                     con = connection)\n",
    "    airports_df         = pd.read_sql(\"airports\",    \n",
    "                                     con = connection)\n",
    "    cities_airports_df  = pd.read_sql(\"cities_airports\",\n",
    "                                     con = connection)\n",
    "    return city_df, population_df, airports_df, cities_airports_df"
   ]
  },
  {
   "cell_type": "markdown",
   "metadata": {},
   "source": [
    "## 2.7 Function that fetches flights and weather data from a database"
   ]
  },
  {
   "cell_type": "code",
   "execution_count": 4,
   "metadata": {},
   "outputs": [],
   "source": [
    "def fetch_dynamic_data(connection):\n",
    "    weather_df  = pd.read_sql(\"weather\", \n",
    "                             con=connection)\n",
    "    flights_df  = pd.read_sql(\"flights\",\n",
    "                             con = connection)\n",
    "    return weather_df, flights_df"
   ]
  },
  {
   "cell_type": "markdown",
   "metadata": {},
   "source": [
    "## 2.8 Function that submits static databases to SQL"
   ]
  },
  {
   "cell_type": "code",
   "execution_count": 5,
   "metadata": {},
   "outputs": [],
   "source": [
    "def submit_static_data(city_df_in, population_df_in, airports_df_in, cities_airports_df_in, connection):\n",
    "    city_df_in.to_sql('city',\n",
    "                  if_exists='append',\n",
    "                  con=connection,\n",
    "                  index=False)\n",
    "    population_df_in.to_sql('population',\n",
    "                         if_exists='append',\n",
    "                         con=connection,\n",
    "                         index=False)\n",
    "    airports_df_in.to_sql('airports',  \n",
    "                       if_exists='append',\n",
    "                       con=connection,\n",
    "                       index=False)\n",
    "    cities_airports_df_in.to_sql('cities_airports',\n",
    "                              if_exists='append',\n",
    "                              con=connection,\n",
    "                              index=False)\n",
    "    return \"success\"\n",
    "    "
   ]
  },
  {
   "cell_type": "markdown",
   "metadata": {},
   "source": [
    "## 2.9 Function that submits weather data to SQL"
   ]
  },
  {
   "cell_type": "code",
   "execution_count": 6,
   "metadata": {},
   "outputs": [],
   "source": [
    "def submit_weather_data(weather_df_in, connection):\n",
    "    weather_df_in.to_sql('weather',\n",
    "                  if_exists='append',\n",
    "                  con=connection,\n",
    "                  index=False)\n",
    "    return \"success\""
   ]
  },
  {
   "cell_type": "markdown",
   "metadata": {},
   "source": [
    "## 2.10 Function that submits flighhts data to SQL"
   ]
  },
  {
   "cell_type": "code",
   "execution_count": 7,
   "metadata": {},
   "outputs": [],
   "source": [
    "def submit_flights_data(flights_df_in, connection):\n",
    "    flights_df_in.to_sql('flights',\n",
    "                  if_exists='append',\n",
    "                  con=connection,\n",
    "                  index=False)\n",
    "    return \"success\""
   ]
  },
  {
   "cell_type": "markdown",
   "metadata": {},
   "source": [
    "## 2.11 Function that automatically parses and updates weather and flights tables"
   ]
  },
  {
   "cell_type": "code",
   "execution_count": 17,
   "metadata": {},
   "outputs": [],
   "source": [
    "def update_weather_flights(connection):\n",
    "    city_df, population_df, airports_df, cities_airports_df = fetch_static_data(connection)\n",
    "    weather_df = get_weather_data(city_df)\n",
    "    flights_df = get_flights(airports_df['icao'])\n",
    "    submit_weather_data(weather_df, connection)\n",
    "    submit_flights_data(flights_df, connection)\n",
    "    return \"success\"\n",
    "    \n"
   ]
  },
  {
   "cell_type": "markdown",
   "metadata": {},
   "source": [
    "## 3.1 Filling the dataframe for selected cities"
   ]
  },
  {
   "cell_type": "code",
   "execution_count": null,
   "metadata": {},
   "outputs": [],
   "source": [
    "cities = [\"Berlin\", \"Hamburg\", \"Munich\", \"Cologne\", \"London\"]\n",
    "\n",
    "pop_df, city_df = cities_dataframe(cities)\n",
    "\n",
    "city_df"
   ]
  },
  {
   "cell_type": "code",
   "execution_count": null,
   "metadata": {},
   "outputs": [],
   "source": [
    "pop_df"
   ]
  },
  {
   "cell_type": "markdown",
   "metadata": {},
   "source": [
    "Export the city adata to SQL"
   ]
  },
  {
   "cell_type": "code",
   "execution_count": null,
   "metadata": {},
   "outputs": [
    {
     "data": {
      "text/plain": [
       "5"
      ]
     },
     "execution_count": 12,
     "metadata": {},
     "output_type": "execute_result"
    }
   ],
   "source": [
    "city_df.to_sql('city',\n",
    "                  if_exists='append',\n",
    "                  con=local_con,\n",
    "                  index=False)"
   ]
  },
  {
   "cell_type": "markdown",
   "metadata": {},
   "source": [
    "Reimport city table with primary key assignments. Prepare population data for exporting "
   ]
  },
  {
   "cell_type": "code",
   "execution_count": null,
   "metadata": {},
   "outputs": [],
   "source": [
    "city_from_sql = pd.read_sql(\"city\", con=local_con) # Reimporting"
   ]
  },
  {
   "cell_type": "code",
   "execution_count": null,
   "metadata": {},
   "outputs": [],
   "source": [
    "\n",
    "# Left Join city into population data\n",
    "population_df = pop_df.merge(city_from_sql,\n",
    "                                   on = \"city\",\n",
    "                                   how = \"left\")\n",
    "\n",
    "# Remove duplicate table info\n",
    "population_df.drop(columns=[\"city\", 'country', 'latitude', 'longitude'], inplace = True)\n",
    "\n",
    "# Reorder columns to match SQL table generation: city_id, population, population_timestamp, retrieval_timestamp from l to r\n",
    "population_df = population_df.iloc[:, [-1, 0, 1, 2]]\n",
    "\n",
    "# Export to SQL population table\n",
    "population_df.to_sql('population',\n",
    "                  if_exists='append',\n",
    "                  con=local_con,\n",
    "                  index=False)"
   ]
  },
  {
   "cell_type": "markdown",
   "metadata": {},
   "source": [
    "## 3.2 Filling the weather df (requires city_df to be setup )"
   ]
  },
  {
   "cell_type": "code",
   "execution_count": null,
   "metadata": {},
   "outputs": [],
   "source": [
    "weather_df = get_weather_data(city_from_sql)\n",
    "weather_df"
   ]
  },
  {
   "cell_type": "markdown",
   "metadata": {},
   "source": [
    "Exporting the weather dataframe to SQL"
   ]
  },
  {
   "cell_type": "code",
   "execution_count": null,
   "metadata": {},
   "outputs": [],
   "source": [
    "weather_df.to_sql('weather',\n",
    "                  if_exists='append',\n",
    "                  con=local_con,\n",
    "                  index=False)"
   ]
  },
  {
   "cell_type": "markdown",
   "metadata": {},
   "source": [
    "# 3.3 Filling the cities_airports and airports dataframes. (Requires city_df)"
   ]
  },
  {
   "cell_type": "code",
   "execution_count": null,
   "metadata": {},
   "outputs": [],
   "source": [
    "cities_airports_df = get_airport_info(city_from_sql)\n",
    "cities_airports_df"
   ]
  },
  {
   "cell_type": "code",
   "execution_count": null,
   "metadata": {},
   "outputs": [],
   "source": [
    "airports_df = create_airport_df(cities_airports_df)\n",
    "airports_df"
   ]
  },
  {
   "cell_type": "code",
   "execution_count": null,
   "metadata": {},
   "outputs": [],
   "source": [
    "#Export airports_df to SQL\n",
    "airports_df.to_sql('airports',\n",
    "                  if_exists='append',\n",
    "                  con=local_con,\n",
    "                  index=False)"
   ]
  },
  {
   "cell_type": "code",
   "execution_count": null,
   "metadata": {},
   "outputs": [],
   "source": [
    "#Export cities_airports_df to SQL \n",
    "cities_airports_df.to_sql('cities_airports',\n",
    "                  if_exists='append',\n",
    "                  con=local_con,\n",
    "                  index=False)"
   ]
  },
  {
   "cell_type": "markdown",
   "metadata": {},
   "source": [
    "## 3.4 Filling the database with flight info"
   ]
  },
  {
   "cell_type": "code",
   "execution_count": null,
   "metadata": {},
   "outputs": [],
   "source": [
    "flights_df = get_flights(airports_df['icao'])\n",
    "flights_df"
   ]
  },
  {
   "cell_type": "code",
   "execution_count": null,
   "metadata": {},
   "outputs": [],
   "source": [
    "#Export flights dataframes to SQL\n",
    "flights_df.to_sql('flights',\n",
    "                  if_exists='append',\n",
    "                  con=local_con,\n",
    "                  index=False)"
   ]
  },
  {
   "cell_type": "markdown",
   "metadata": {},
   "source": [
    "## 3.5 Updating the weather and flight data on local database"
   ]
  },
  {
   "cell_type": "code",
   "execution_count": null,
   "metadata": {},
   "outputs": [],
   "source": [
    "update_weather_flights(local_con)"
   ]
  },
  {
   "cell_type": "markdown",
   "metadata": {},
   "source": [
    "## 4.1 Transferring data from local to cloud"
   ]
  },
  {
   "cell_type": "code",
   "execution_count": null,
   "metadata": {},
   "outputs": [],
   "source": [
    "# Importing the dataframes from local SQL\n",
    "city_df, population_df, airports_df, cities_airports_df = fetch_static_data(local_con)\n",
    "weather_df, flights_df = fetch_dynamic_data(local_con)"
   ]
  },
  {
   "cell_type": "code",
   "execution_count": null,
   "metadata": {},
   "outputs": [],
   "source": [
    "# Exporting the dataframes into cloud SQL\n",
    "submit_static_data(city_df, population_df, airports_df, cities_airports_df, cloud_con)\n",
    "submit_weather_data(weather_df, cloud_con)\n",
    "submit_flights_data(flights_df, cloud_con)"
   ]
  }
 ],
 "metadata": {
  "kernelspec": {
   "display_name": "base",
   "language": "python",
   "name": "python3"
  },
  "language_info": {
   "codemirror_mode": {
    "name": "ipython",
    "version": 3
   },
   "file_extension": ".py",
   "mimetype": "text/x-python",
   "name": "python",
   "nbconvert_exporter": "python",
   "pygments_lexer": "ipython3",
   "version": "3.12.9"
  }
 },
 "nbformat": 4,
 "nbformat_minor": 2
}
