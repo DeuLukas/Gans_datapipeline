{
  "cells": [
    {
      "cell_type": "code",
      "execution_count": null,
      "id": "05419c46-d5b1-47b6-afc3-440e414a336a",
      "metadata": {
        "colab": {
          "base_uri": "https://localhost:8080/",
          "height": 637
        },
        "id": "05419c46-d5b1-47b6-afc3-440e414a336a",
        "jupyter": {
          "outputs_hidden": true
        },
        "outputId": "d2df20cf-6784-4c88-a386-41feee7f3cbf",
        "tags": []
      },
      "outputs": [],
      "source": [
        "pip install functions-framework"
      ]
    },
    {
      "cell_type": "code",
      "execution_count": null,
      "id": "5e325610",
      "metadata": {},
      "outputs": [],
      "source": [
        "import functions_framework\n",
        "from pytz import timezone\n",
        "from datetime import datetime, timedelta\n",
        "import pandas as pd\n",
        "import requests\n",
        "import sqlalchemy\n",
        "import pymysql\n",
        "import os"
      ]
    },
    {
      "cell_type": "code",
      "execution_count": null,
      "id": "a406aac8-6fbe-429e-8b98-9aaf0282daca",
      "metadata": {
        "id": "a406aac8-6fbe-429e-8b98-9aaf0282daca",
        "tags": []
      },
      "outputs": [],
      "source": [
        "@functions_framework.http\n",
        "def flights_pushing(request):\n",
        "    schema = \"city_scooter_analysis\"  # The name of your database\n",
        "    host = \"104.199.15.9\"\n",
        "    user = \"root\"\n",
        "    password = \"Insert_your_SQL_root_password\" # Replace with your actual variable or hardcode for testing\n",
        "    port = 3306\n",
        "\n",
        "    # Create the connection string for SQLAlchemy\n",
        "    connection_string = f'mysql+pymysql://{user}:{password}@{host}:{port}/{schema}'\n",
        "\n",
        "    # Read the cities table into a DataFrame\n",
        "    input_airport_df = pd.read_sql(\"airports\", con=connection_string)\n",
        "    input_icao_list = input_airport_df['icao']\n",
        "\n",
        "    # Preparing the querystring by selecting API parameters. \n",
        "    querystring = {\"withLeg\":\"True\",\n",
        "                \"direction\":\"Arrival\",\n",
        "                \"withCancelled\":\"False\",\n",
        "                \"withCodeshared\":\"True\",\n",
        "                \"withCargo\":\"False\",\n",
        "                \"withPrivate\":\"False\",\n",
        "                \"withLocation\":\"False\"\n",
        "                }\n",
        "\n",
        "    headers = \t{\n",
        "                \"x-rapidapi-key\": 'Insert_your_API_key', #  Replace with your actual API key. Using the string without imports helps debug. In Cloud use Google secrets\n",
        "                \"x-rapidapi-host\": \"aerodatabox.p.rapidapi.com\"\n",
        "                }\n",
        "\n",
        "    berlin_timezone = timezone('Europe/Berlin')\n",
        "    today = datetime.now(berlin_timezone).date()\n",
        "    tomorrow = (today + timedelta(days=1))\n",
        "    times = [[\"00:00\",\"11:59\"], # Maximum time span for the API is 12 hours. So run twice for selected time intervals to receive full day's data\n",
        "            [\"12:00\",\"23:59\"]]\n",
        "\n",
        "    flight_num = []\n",
        "    departure_icao = []\n",
        "    arrival_icao = []\n",
        "    arrival_time = []\n",
        "    retrieval_time = []\n",
        "\n",
        "\n",
        "    retrieval_timestamp = datetime.now(berlin_timezone).strftime(\"%Y-%m-%d %H:%M:%S\")\n",
        "\n",
        "    for airport in input_icao_list:\n",
        "        for time in times:\n",
        "            url = f\"https://aerodatabox.p.rapidapi.com/flights/airports/icao/{airport}/{tomorrow}T{time[0]}/{tomorrow}T{time[1]}\"\n",
        "\n",
        "            flights_response = requests.get(url, headers=headers, params=querystring)\n",
        "            try:\n",
        "                flights_json = flights_response.json()\n",
        "            except requests.JSONDecodeError:\n",
        "                continue\n",
        "            for flight in flights_json['arrivals']:\n",
        "                flight_num.append(flight['number'])\n",
        "                try:\n",
        "                    departure_icao.append(flight['departure']['airport']['icao'])\n",
        "                except:\n",
        "                    departure_icao.append('')\n",
        "                arrival_icao.append(airport)\n",
        "                arrival_time.append(flight['arrival']['scheduledTime']['local'])\n",
        "                retrieval_time.append(retrieval_timestamp)\n",
        "    flights_df = pd.DataFrame({\"flight_num\": flight_num,\n",
        "                                        \"departure_icao\": departure_icao,\n",
        "                                        \"arrival_icao\": arrival_icao,\n",
        "                                        \"arrival_time\": arrival_time,\n",
        "                                        \"retrieval_time\": retrieval_time\n",
        "                                            })\n",
        "    flights_df[\"arrival_time\"] = flights_df[\"arrival_time\"].str[:-6] # Removing info to convert to datetime format\n",
        "    flights_df[\"arrival_time\"] = pd.to_datetime(flights_df[\"arrival_time\"])\n",
        "    flights_df[\"retrieval_time\"] = pd.to_datetime(flights_df[\"retrieval_time\"])\n",
        "\n",
        "    # This is only for testing without the table join\n",
        "    flights_df.to_sql('flights', if_exists=\"append\", con=connection_string, index=False) \n",
        "\n",
        "    return \"Data has been sent to the table\""
      ]
    },
    {
      "cell_type": "code",
      "execution_count": null,
      "id": "b4629930-b08d-4e70-b0da-0fdbb0638f32",
      "metadata": {
        "id": "b4629930-b08d-4e70-b0da-0fdbb0638f32",
        "outputId": "b4049a8a-0ca8-458a-b12d-506ce3a52d0b",
        "tags": []
      },
      "outputs": [],
      "source": [
        "from flask import Request\n",
        "import json\n",
        "\n",
        "request_data = {}\n",
        "request = Request.from_values(data=json.dumps(request_data))\n",
        "\n",
        "# Call the function\n",
        "response = flights_pushing(request)\n",
        "print(response)"
      ]
    }
  ],
  "metadata": {
    "colab": {
      "provenance": []
    },
    "kernelspec": {
      "display_name": "base",
      "language": "python",
      "name": "python3"
    },
    "language_info": {
      "codemirror_mode": {
        "name": "ipython",
        "version": 3
      },
      "file_extension": ".py",
      "mimetype": "text/x-python",
      "name": "python",
      "nbconvert_exporter": "python",
      "pygments_lexer": "ipython3",
      "version": "3.12.9"
    }
  },
  "nbformat": 4,
  "nbformat_minor": 5
}
